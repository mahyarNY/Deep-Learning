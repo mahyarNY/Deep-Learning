{
 "cells": [
  {
   "cell_type": "markdown",
   "metadata": {
    "id": "6sBYwU_mbbv_"
   },
   "source": [
    "# Environment setup\n",
    "Follow the tutorial about how to utilize Google Colab but **don't install PyTorch** as mentioned in the blog post.\n",
    "\n",
    "Turkish:\n",
    "https://medium.com/deep-learning-turkiye/google-colab-ile-%C3%BCcretsiz-gpu-kullan%C4%B1m%C4%B1-30fdb7dd822e\n",
    "\n",
    "English:\n",
    "https://medium.com/deep-learning-turkey/google-colab-free-gpu-tutorial-e113627b9f5d\n",
    "\n"
   ]
  },
  {
   "cell_type": "code",
   "execution_count": 1,
   "metadata": {
    "colab": {
     "base_uri": "https://localhost:8080/"
    },
    "id": "c-WMqbFibbwH",
    "outputId": "f0427c48-5bcc-48b0-fead-eb858342d4a5"
   },
   "outputs": [
    {
     "name": "stdout",
     "output_type": "stream",
     "text": [
      "Mounted at /content/drive/\n"
     ]
    }
   ],
   "source": [
    "# This part probably will be enough for utilizing Drive in Colab\n",
    "# but examine links above if you encounter with problems.\n",
    "from google.colab import drive\n",
    "drive.mount('/content/drive/', force_remount=True)"
   ]
  },
  {
   "cell_type": "markdown",
   "metadata": {
    "id": "8wBbmVd_bbwI"
   },
   "source": [
    "## Now, you will work on Architectural Heritage Elements Dataset and classify these elements into 10 categories\n",
    "\n",
    "After having mounted the Jupyter Notebook to Google Drive, navigate the following address: https://drive.google.com/drive/folders/1PLXZYjGeaM1rekMKUTo8mlaaPeFOrBft?usp=sharing\n",
    "\n",
    "\n",
    "Add this folder entirely to your Google Drive. If you have done it correctly, then you should be able to see *data* folder in your drive.\n",
    "\n",
    "You can examine the dataset in the following address: https://old.datahub.io/dataset/architectural-heritage-elements-image-dataset\n"
   ]
  },
  {
   "cell_type": "markdown",
   "metadata": {
    "id": "xX-9JLXZbbwJ"
   },
   "source": [
    "### Don't forget to choose the right runtime from the menu above. (GPU should be selected)"
   ]
  },
  {
   "cell_type": "code",
   "execution_count": 2,
   "metadata": {
    "colab": {
     "base_uri": "https://localhost:8080/"
    },
    "id": "shJIShF6bbwJ",
    "outputId": "ee23dc2b-ec29-461a-f301-35e4765af8ce"
   },
   "outputs": [
    {
     "name": "stdout",
     "output_type": "stream",
     "text": [
      "Sat Dec 26 23:19:14 2020       \n",
      "+-----------------------------------------------------------------------------+\n",
      "| NVIDIA-SMI 460.27.04    Driver Version: 418.67       CUDA Version: 10.1     |\n",
      "|-------------------------------+----------------------+----------------------+\n",
      "| GPU  Name        Persistence-M| Bus-Id        Disp.A | Volatile Uncorr. ECC |\n",
      "| Fan  Temp  Perf  Pwr:Usage/Cap|         Memory-Usage | GPU-Util  Compute M. |\n",
      "|                               |                      |               MIG M. |\n",
      "|===============================+======================+======================|\n",
      "|   0  Tesla T4            Off  | 00000000:00:04.0 Off |                    0 |\n",
      "| N/A   56C    P8    12W /  70W |      0MiB / 15079MiB |      0%      Default |\n",
      "|                               |                      |                 ERR! |\n",
      "+-------------------------------+----------------------+----------------------+\n",
      "                                                                               \n",
      "+-----------------------------------------------------------------------------+\n",
      "| Processes:                                                                  |\n",
      "|  GPU   GI   CI        PID   Type   Process name                  GPU Memory |\n",
      "|        ID   ID                                                   Usage      |\n",
      "|=============================================================================|\n",
      "|  No running processes found                                                 |\n",
      "+-----------------------------------------------------------------------------+\n"
     ]
    }
   ],
   "source": [
    "!nvidia-smi\n",
    "# This command should return some information about the GPU status if the runtime is right. \n",
    "# In addition to that, if you encounter memory issues, you can diagnose your model by this command."
   ]
  },
  {
   "cell_type": "markdown",
   "metadata": {
    "id": "7uxmgnbBbbwJ"
   },
   "source": [
    "### You are free to utilize Pytorch methods in this part of the homework. You will be using pretained models ResNet-50, DenseNet-121 and your own model."
   ]
  },
  {
   "cell_type": "code",
   "execution_count": 3,
   "metadata": {
    "id": "BTxJLwY9bbwK"
   },
   "outputs": [],
   "source": [
    "# All libraries are already presented in Colab Servers, we don't need to install anything with pip\n",
    "import torch\n",
    "import torch.nn as nn\n",
    "import torch.optim as optim\n",
    "from torch.utils.data import DataLoader\n",
    "from torchvision.datasets import ImageFolder\n",
    "import torchvision.transforms as transforms\n",
    "import torch.nn.functional as F\n",
    "from PIL import Image\n",
    "import os\n",
    "import numpy as np\n",
    "import matplotlib.pyplot as plt\n",
    "%matplotlib inline"
   ]
  },
  {
   "cell_type": "markdown",
   "metadata": {
    "id": "p6pmyXRNbbwK"
   },
   "source": [
    "## Pre-trained Models\n",
    "\n",
    "You can find tutorials on how to load those models at pytorch.org . Don't forget to use pretrained=True if you wish to do finetuning."
   ]
  },
  {
   "cell_type": "code",
   "execution_count": 4,
   "metadata": {
    "colab": {
     "base_uri": "https://localhost:8080/"
    },
    "id": "0CjMvHJWbbwK",
    "outputId": "18ebd154-3af1-4107-bc15-b20a351af083"
   },
   "outputs": [
    {
     "name": "stderr",
     "output_type": "stream",
     "text": [
      "Using cache found in /root/.cache/torch/hub/pytorch_vision_v0.6.0\n",
      "Using cache found in /root/.cache/torch/hub/pytorch_vision_v0.6.0\n"
     ]
    }
   ],
   "source": [
    "# Load ResNet-50 and DenseNet-121 model seperately here\n",
    "model_resnet50 = torch.hub.load('pytorch/vision:v0.6.0', 'resnet50', pretrained=True)\n",
    "model_densnet121 = torch.hub.load('pytorch/vision:v0.6.0', 'densenet121', pretrained=True)\n",
    "model = model_resnet50\n",
    "# model.eval()\n",
    "# because I want to do finetuning then I set requires_grad = False\n",
    "# I will remove these two lines if I just want to train entire model\n",
    "for param in model.parameters():\n",
    "    param.requires_grad = False\n",
    "\n",
    "model.classifier = nn.Sequential(\n",
    "    nn.Linear(2048, 100), nn.ReLU(), nn.Linear(100, 10)\n",
    ")\n",
    "# model.train()\n"
   ]
  },
  {
   "cell_type": "markdown",
   "metadata": {
    "id": "F4-UeyRBbbwL"
   },
   "source": [
    "## Your Model\n",
    "\n",
    "Additionally, build your own model which is different from the other models, train on the Architectural Heritage Elements dataset."
   ]
  },
  {
   "cell_type": "code",
   "execution_count": 5,
   "metadata": {
    "id": "Q4sV7EVebbwL"
   },
   "outputs": [],
   "source": [
    "class ConvNetM(nn.Module):\n",
    "    def __init__(self):\n",
    "        # TO DO: Your neural network design\n",
    "        # super(YourModel, self).__init__()\n",
    "        super(ConvNetM, self).__init__()\n",
    "        self.conv1 = nn.Conv2d(in_channels = 3, out_channels= 8, kernel_size= 3, stride=1, padding= (1,1))\n",
    "        self.pool = nn.MaxPool2d(kernel_size= (2,2), stride= 2 )\n",
    "        self.conv2 = nn.Conv2d(in_channels = 8, out_channels= 16, kernel_size= 3, stride=1, padding= (1,1))\n",
    "        self.conv3 = nn.Conv2d(in_channels = 16, out_channels= 32, kernel_size= 3, stride=1, padding= (1,1))\n",
    "        self.conv4 = nn.Conv2d(in_channels = 32, out_channels= 64, kernel_size= 3, stride=1, padding= (1,1))\n",
    "\n",
    "        self.fc1 = nn.Linear(64 * 14 * 14, 120)\n",
    "        self.fc2 = nn.Linear(120, 84)\n",
    "        self.fc3 = nn.Linear(84, 10)\n",
    "        pass\n",
    "        self.seq = nn.Sequential(nn.Linear(10,10))\n",
    "    def forward(self, x):\n",
    "        # TO DO: Your neural network design\n",
    "        # -> n, 3, 32, 32\n",
    "        x = self.pool(F.relu(self.conv1(x)))  # -> n, 8, 112, 112\n",
    "        x = self.pool(F.relu(self.conv2(x)))  # -> n, 16, 56, 56\n",
    "        x = self.pool(F.relu(self.conv3(x)))  # -> n, 32, 28, 28\n",
    "        x = self.pool(F.relu(self.conv4(x)))  # -> n, 64, 14, 14\n",
    "        x = x.view(-1, 64 * 14 * 14)            # -> n, 12544\n",
    "        x = F.relu(self.fc1(x))               # -> n, 120\n",
    "        x = F.relu(self.fc2(x))               # -> n, 84\n",
    "        out = self.fc3(x)                       # -> n, 10\n",
    "        \n",
    "        return out\n",
    "\n",
    "model = ConvNetM()"
   ]
  },
  {
   "cell_type": "code",
   "execution_count": 6,
   "metadata": {
    "id": "3l5PrAZobbwL"
   },
   "outputs": [],
   "source": [
    "###  Here are some training parameters which you can tweak\n",
    "batch_size = 32\n",
    "learning_rate = 5e-4\n",
    "regularization_rate = 0\n",
    "n_epochs = 10\n",
    "use_gpu = True\n",
    "test_every = 3\n",
    "###\n",
    "\n",
    "# You may want to tweak them too and you can use different parameter settings for different models. \n",
    "# These are just examples\n",
    "optimizer = optim.SGD(model.parameters(), lr=learning_rate)\n",
    "# optimizer = optim.SGD(params=None, lr=learning_rate)\n",
    "criteria = nn.CrossEntropyLoss()"
   ]
  },
  {
   "cell_type": "markdown",
   "metadata": {
    "id": "A1itVR-UbbwL"
   },
   "source": [
    "## DataLoader\n",
    "\n",
    "Here we provide you the codes for loading the train data, validation data and test data. Please ensure that you understood how PyTorch methods like ImageFolder, DataLoader and transformations work."
   ]
  },
  {
   "cell_type": "code",
   "execution_count": 9,
   "metadata": {
    "id": "-uITqQl4bbwM"
   },
   "outputs": [],
   "source": [
    "train_transforms = transforms.Compose([\n",
    "            transforms.Resize(224),\n",
    "            transforms.RandomHorizontalFlip(),\n",
    "            transforms.ToTensor(),\n",
    "            transforms.Normalize((0.485, 0.456, 0.406), (0.229, 0.224, 0.225))\n",
    "        ])\n",
    "val_transforms = transforms.Compose([\n",
    "            transforms.Resize(224),\n",
    "            transforms.ToTensor(),\n",
    "            transforms.Normalize((0.485, 0.456, 0.406), (0.229, 0.224, 0.225))\n",
    "        ])\n",
    "test_transforms = transforms.Compose([\n",
    "            transforms.Resize(224),\n",
    "            transforms.ToTensor(),\n",
    "            transforms.Normalize((0.485, 0.456, 0.406), (0.229, 0.224, 0.225))\n",
    "        ])\n",
    "\n",
    "train_dataset = ImageFolder('drive/My Drive/data/train', train_transforms)\n",
    "val_dataset = ImageFolder('drive/My Drive/data/val', val_transforms)\n",
    "test_dataset = ImageFolder('drive/My Drive/data/test', test_transforms)\n",
    "\n",
    "train_loader = DataLoader(dataset=train_dataset, batch_size=batch_size, num_workers=4, shuffle=True)\n",
    "test_loader = DataLoader(dataset=test_dataset, batch_size=32, num_workers=4, shuffle=False)\n",
    "val_loader = DataLoader(dataset=val_dataset, batch_size=32, num_workers=4, shuffle=False)"
   ]
  },
  {
   "cell_type": "code",
   "execution_count": 8,
   "metadata": {
    "id": "NkThfpNQoFiy"
   },
   "outputs": [],
   "source": [
    "dataiter = iter(train_loader)\n",
    "images, labels = dataiter.next()"
   ]
  },
  {
   "cell_type": "code",
   "execution_count": 9,
   "metadata": {
    "colab": {
     "base_uri": "https://localhost:8080/",
     "height": 354
    },
    "id": "h5LrwS-rpRQu",
    "outputId": "57ec609e-6489-4d42-85aa-8b8465fbd619"
   },
   "outputs": [
    {
     "name": "stderr",
     "output_type": "stream",
     "text": [
      "Clipping input data to the valid range for imshow with RGB data ([0..1] for floats or [0..255] for integers).\n"
     ]
    },
    {
     "name": "stdout",
     "output_type": "stream",
     "text": [
      "(32, 3, 224, 224)\n",
      "tensor(8)\n",
      "(224, 224, 3)\n"
     ]
    },
    {
     "data": {
      "text/plain": [
       "<matplotlib.image.AxesImage at 0x7f916517e780>"
      ]
     },
     "execution_count": 9,
     "metadata": {
      "tags": []
     },
     "output_type": "execute_result"
    },
    {
     "data": {
      "image/png": "[encoded data removed]",
      "text/plain": [
       "<Figure size 432x288 with 1 Axes>"
      ]
     },
     "metadata": {
      "needs_background": "light",
      "tags": []
     },
     "output_type": "display_data"
    }
   ],
   "source": [
    "# print(images[0])\n",
    "x = images[25]\n",
    "x = x.numpy()\n",
    "xx = images.numpy()\n",
    "print(xx.shape)\n",
    "print(labels[20])\n",
    "x= np.reshape(x, (224, 224, 3))\n",
    "print(x.shape)\n",
    "\n",
    "plt.imshow(x)\n"
   ]
  },
  {
   "cell_type": "markdown",
   "metadata": {
    "id": "V6kw3m7wbbwM"
   },
   "source": [
    "# Train your own model\n",
    "\n",
    "Don't forget to include appropriate regularizations. Choose appropriate set of hyperparameters such as Learning Rate etc. You may insert new cells."
   ]
  },
  {
   "cell_type": "code",
   "execution_count": 11,
   "metadata": {
    "colab": {
     "base_uri": "https://localhost:8080/"
    },
    "id": "QqftTJlIbbwM",
    "outputId": "67a9625c-52a7-48ac-8567-920d7c81d595"
   },
   "outputs": [
    {
     "name": "stdout",
     "output_type": "stream",
     "text": [
      "Epoch [1/10], Step [100/273], Loss: 1.8197\n",
      "Epoch [1/10], Step [200/273], Loss: 1.4084\n",
      "Epoch [1/10], Loss: 1.3680\n",
      "Epoch [2/10], Step [100/273], Loss: 1.3395\n",
      "Epoch [2/10], Step [200/273], Loss: 0.8743\n",
      "Epoch [2/10], Loss: 0.9015\n",
      "Epoch [3/10], Step [100/273], Loss: 0.7669\n",
      "Epoch [3/10], Step [200/273], Loss: 1.0896\n",
      "Epoch [3/10], Loss: 0.7909\n",
      "Epoch [4/10], Step [100/273], Loss: 0.6329\n",
      "Epoch [4/10], Step [200/273], Loss: 0.8709\n",
      "Epoch [4/10], Loss: 1.0760\n",
      "Epoch [5/10], Step [100/273], Loss: 0.5246\n",
      "Epoch [5/10], Step [200/273], Loss: 0.5681\n",
      "Epoch [5/10], Loss: 0.9791\n",
      "Epoch [6/10], Step [100/273], Loss: 1.0627\n",
      "Epoch [6/10], Step [200/273], Loss: 0.6048\n",
      "Epoch [6/10], Loss: 0.9215\n",
      "Epoch [7/10], Step [100/273], Loss: 0.4894\n",
      "Epoch [7/10], Step [200/273], Loss: 0.8682\n",
      "Epoch [7/10], Loss: 0.1696\n",
      "Epoch [8/10], Step [100/273], Loss: 0.6657\n",
      "Epoch [8/10], Step [200/273], Loss: 0.3103\n",
      "Epoch [8/10], Loss: 0.4095\n",
      "Epoch [9/10], Step [100/273], Loss: 0.4698\n",
      "Epoch [9/10], Step [200/273], Loss: 0.2363\n",
      "Epoch [9/10], Loss: 0.4476\n",
      "Epoch [10/10], Step [100/273], Loss: 0.2572\n",
      "Epoch [10/10], Step [200/273], Loss: 0.2830\n",
      "Epoch [10/10], Loss: 0.1544\n",
      "Finished Training\n"
     ]
    }
   ],
   "source": [
    "# It modifies the behaviour of modules like BatchNorm and Dropout for training purposes\n",
    "# Use your own model\n",
    "model = ConvNetM()\n",
    "optimizer = optim.Adam(model.parameters(), lr=learning_rate)\n",
    "criteria = nn.CrossEntropyLoss()\n",
    "n_total_steps = len(train_loader)\n",
    "model.train()\n",
    "if use_gpu:\n",
    "    model.cuda()\n",
    "    criteria.cuda()\n",
    "\n",
    "# Some example diagnostics.\n",
    "\n",
    "# Loss for every iteration\n",
    "losses_iter_train = []\n",
    "# Loss for epoch (averaging the iteration-wise loss)\n",
    "losses_epoch_train = []\n",
    "accuracy_iter_train = []\n",
    "accuracy_epoch_train = []\n",
    "\n",
    "losses_iter_val = []\n",
    "losses_epoch_val = []\n",
    "accuracy_iter_val = []\n",
    "accuracy_epoch_val = []\n",
    "iter_num_val = 0\n",
    "iter_num = 0\n",
    "# Write the training loop\n",
    "for epoch in range(n_epochs):\n",
    "\n",
    "    if epoch % 3 == 1:\n",
    "        with torch.no_grad():\n",
    "            model.eval()\n",
    "            # Measure the performance in validation set.\n",
    "            for ix, data in enumerate(val_loader):\n",
    "                model.zero_grad()\n",
    "                imgVal, labelVal = data\n",
    "                if use_gpu:\n",
    "                    imgVal = imgVal.cuda()\n",
    "                    labelVal = labelVal.cuda()\n",
    "                pass\n",
    "              \n",
    "                # Forward pass\n",
    "                outputsV = model(imgVal)\n",
    "                lossv = criteria(outputsV, labelVal)\n",
    "                losses_iter_val.append(lossv)\n",
    "                iter_num_val += 1\n",
    "                \n",
    "            losses_epoch_val.append(np.sum(losses_iter_val)/iter_num_val)\n",
    "                \n",
    "    for ix, data in enumerate(train_loader):\n",
    "        model.zero_grad()\n",
    "        img, label = data\n",
    "        if use_gpu:\n",
    "            img = img.cuda()\n",
    "            label = label.cuda()\n",
    "        pass\n",
    "           \n",
    "        model.train()\n",
    "        # Forward pass\n",
    "        outputs = model(img)\n",
    "        loss = criteria(outputs, label)\n",
    "        losses_iter_train.append(loss)\n",
    "        iter_num += 1\n",
    "        \n",
    "        # Backward and optimize\n",
    "        optimizer.zero_grad()\n",
    "        loss.backward()\n",
    "        optimizer.step()\n",
    "\n",
    "        if (ix+1) % 100 == 0:\n",
    "            print (f'Epoch [{epoch+1}/{n_epochs}], Step [{ix+1}/{n_total_steps}], Loss: {loss.item():.4f}')\n",
    "    \n",
    "    losses_epoch_train.append(np.sum(losses_iter_train)/iter_num)\n",
    "    \n",
    "    print (f'Epoch [{epoch+1}/{n_epochs}], Loss: {loss.item():.4f}')\n",
    "\n",
    "print('Finished Training')\n",
    "\n",
    "       \n"
   ]
  },
  {
   "cell_type": "code",
   "execution_count": 12,
   "metadata": {
    "colab": {
     "base_uri": "https://localhost:8080/"
    },
    "id": "GCwNreqmvF9p",
    "outputId": "84351a8a-4706-4cb6-c060-b891c0b6e15d"
   },
   "outputs": [
    {
     "name": "stdout",
     "output_type": "stream",
     "text": [
      "Checking accuracy on training data\n",
      "Got 7913 / 8728 with accuracy 90.66\n",
      "Checking accuracy on training data\n",
      "Got 1106 / 1507 with accuracy 73.39\n"
     ]
    }
   ],
   "source": [
    "def check_accuracy(loader, model):\n",
    "    # if loader.dataset.train:\n",
    "    if model.train():\n",
    "        print(\"Checking accuracy on training data\")\n",
    "    else:\n",
    "        print(\"Checking accuracy on test data\")\n",
    "\n",
    "    num_correct = 0\n",
    "    num_samples = 0\n",
    "    model.eval()\n",
    "\n",
    "    with torch.no_grad():\n",
    "        for x, y in loader:\n",
    "            x = x.cuda()\n",
    "            y = y.cuda()\n",
    "            # x = x.reshape(x.shape[0], -1)\n",
    "            scores = model(x)\n",
    "            _, predictions = scores.max(1)\n",
    "            num_correct += (predictions == y).sum()\n",
    "            num_samples += predictions.size(0)\n",
    "\n",
    "        print(\n",
    "            f\"Got {num_correct} / {num_samples} with accuracy {float(num_correct)/float(num_samples)*100:.2f}\"\n",
    "        )\n",
    "\n",
    "\n",
    "\n",
    "check_accuracy(train_loader, model)\n",
    "check_accuracy(val_loader, model)\n"
   ]
  },
  {
   "cell_type": "markdown",
   "metadata": {
    "id": "iOYFBULr57Jg"
   },
   "source": [
    "Based on the results: training accruacy is 90.66 and validation accurach is 73.39"
   ]
  },
  {
   "cell_type": "markdown",
   "metadata": {
    "id": "d1H75Kp9bbwN"
   },
   "source": [
    "## Test your model\n",
    "\n",
    "Measure the performance against test set. Complete the code below."
   ]
  },
  {
   "cell_type": "code",
   "execution_count": 13,
   "metadata": {
    "colab": {
     "base_uri": "https://localhost:8080/"
    },
    "id": "O2HIldFMbbwN",
    "outputId": "a62bfd32-a9dc-4552-af09-2f0c0a990a6b"
   },
   "outputs": [
    {
     "name": "stdout",
     "output_type": "stream",
     "text": [
      "Checking accuracy on training data\n",
      "Got 766 / 1404 with accuracy 54.56\n"
     ]
    }
   ],
   "source": [
    "# It modifies the behaviour of modules like BatchNorm and Dropout for test purposes\n",
    "# Dropout no longer works when .eval() is called.\n",
    "# BatchNorm uses the learned parameters\n",
    "\n",
    "model.eval()\n",
    "check_accuracy(test_loader, model)"
   ]
  },
  {
   "cell_type": "markdown",
   "metadata": {
    "id": "tcKVuxvgbbwO"
   },
   "source": [
    "# ResNet-50\n",
    "## Train ResNet-50\n",
    "\n",
    "Avoid overfitting and underfitting as much as possible. **Try to get highest validation and test accuracy (at least 65%)**"
   ]
  },
  {
   "cell_type": "code",
   "execution_count": 66,
   "metadata": {
    "colab": {
     "base_uri": "https://localhost:8080/"
    },
    "id": "ZN-d_Yge46FR",
    "outputId": "d5461ca0-41d7-4891-f32e-d3cb0e103277"
   },
   "outputs": [
    {
     "name": "stderr",
     "output_type": "stream",
     "text": [
      "Using cache found in /root/.cache/torch/hub/pytorch_vision_v0.6.0\n"
     ]
    },
    {
     "data": {
      "text/plain": [
       "ResNet(\n",
       "  (conv1): Conv2d(3, 64, kernel_size=(7, 7), stride=(2, 2), padding=(3, 3), bias=False)\n",
       "  (bn1): BatchNorm2d(64, eps=1e-05, momentum=0.1, affine=True, track_running_stats=True)\n",
       "  (relu): ReLU(inplace=True)\n",
       "  (maxpool): MaxPool2d(kernel_size=3, stride=2, padding=1, dilation=1, ceil_mode=False)\n",
       "  (layer1): Sequential(\n",
       "    (0): Bottleneck(\n",
       "      (conv1): Conv2d(64, 64, kernel_size=(1, 1), stride=(1, 1), bias=False)\n",
       "      (bn1): BatchNorm2d(64, eps=1e-05, momentum=0.1, affine=True, track_running_stats=True)\n",
       "      (conv2): Conv2d(64, 64, kernel_size=(3, 3), stride=(1, 1), padding=(1, 1), bias=False)\n",
       "      (bn2): BatchNorm2d(64, eps=1e-05, momentum=0.1, affine=True, track_running_stats=True)\n",
       "      (conv3): Conv2d(64, 256, kernel_size=(1, 1), stride=(1, 1), bias=False)\n",
       "      (bn3): BatchNorm2d(256, eps=1e-05, momentum=0.1, affine=True, track_running_stats=True)\n",
       "      (relu): ReLU(inplace=True)\n",
       "      (downsample): Sequential(\n",
       "        (0): Conv2d(64, 256, kernel_size=(1, 1), stride=(1, 1), bias=False)\n",
       "        (1): BatchNorm2d(256, eps=1e-05, momentum=0.1, affine=True, track_running_stats=True)\n",
       "      )\n",
       "    )\n",
       "    (1): Bottleneck(\n",
       "      (conv1): Conv2d(256, 64, kernel_size=(1, 1), stride=(1, 1), bias=False)\n",
       "      (bn1): BatchNorm2d(64, eps=1e-05, momentum=0.1, affine=True, track_running_stats=True)\n",
       "      (conv2): Conv2d(64, 64, kernel_size=(3, 3), stride=(1, 1), padding=(1, 1), bias=False)\n",
       "      (bn2): BatchNorm2d(64, eps=1e-05, momentum=0.1, affine=True, track_running_stats=True)\n",
       "      (conv3): Conv2d(64, 256, kernel_size=(1, 1), stride=(1, 1), bias=False)\n",
       "      (bn3): BatchNorm2d(256, eps=1e-05, momentum=0.1, affine=True, track_running_stats=True)\n",
       "      (relu): ReLU(inplace=True)\n",
       "    )\n",
       "    (2): Bottleneck(\n",
       "      (conv1): Conv2d(256, 64, kernel_size=(1, 1), stride=(1, 1), bias=False)\n",
       "      (bn1): BatchNorm2d(64, eps=1e-05, momentum=0.1, affine=True, track_running_stats=True)\n",
       "      (conv2): Conv2d(64, 64, kernel_size=(3, 3), stride=(1, 1), padding=(1, 1), bias=False)\n",
       "      (bn2): BatchNorm2d(64, eps=1e-05, momentum=0.1, affine=True, track_running_stats=True)\n",
       "      (conv3): Conv2d(64, 256, kernel_size=(1, 1), stride=(1, 1), bias=False)\n",
       "      (bn3): BatchNorm2d(256, eps=1e-05, momentum=0.1, affine=True, track_running_stats=True)\n",
       "      (relu): ReLU(inplace=True)\n",
       "    )\n",
       "  )\n",
       "  (layer2): Sequential(\n",
       "    (0): Bottleneck(\n",
       "      (conv1): Conv2d(256, 128, kernel_size=(1, 1), stride=(1, 1), bias=False)\n",
       "      (bn1): BatchNorm2d(128, eps=1e-05, momentum=0.1, affine=True, track_running_stats=True)\n",
       "      (conv2): Conv2d(128, 128, kernel_size=(3, 3), stride=(2, 2), padding=(1, 1), bias=False)\n",
       "      (bn2): BatchNorm2d(128, eps=1e-05, momentum=0.1, affine=True, track_running_stats=True)\n",
       "      (conv3): Conv2d(128, 512, kernel_size=(1, 1), stride=(1, 1), bias=False)\n",
       "      (bn3): BatchNorm2d(512, eps=1e-05, momentum=0.1, affine=True, track_running_stats=True)\n",
       "      (relu): ReLU(inplace=True)\n",
       "      (downsample): Sequential(\n",
       "        (0): Conv2d(256, 512, kernel_size=(1, 1), stride=(2, 2), bias=False)\n",
       "        (1): BatchNorm2d(512, eps=1e-05, momentum=0.1, affine=True, track_running_stats=True)\n",
       "      )\n",
       "    )\n",
       "    (1): Bottleneck(\n",
       "      (conv1): Conv2d(512, 128, kernel_size=(1, 1), stride=(1, 1), bias=False)\n",
       "      (bn1): BatchNorm2d(128, eps=1e-05, momentum=0.1, affine=True, track_running_stats=True)\n",
       "      (conv2): Conv2d(128, 128, kernel_size=(3, 3), stride=(1, 1), padding=(1, 1), bias=False)\n",
       "      (bn2): BatchNorm2d(128, eps=1e-05, momentum=0.1, affine=True, track_running_stats=True)\n",
       "      (conv3): Conv2d(128, 512, kernel_size=(1, 1), stride=(1, 1), bias=False)\n",
       "      (bn3): BatchNorm2d(512, eps=1e-05, momentum=0.1, affine=True, track_running_stats=True)\n",
       "      (relu): ReLU(inplace=True)\n",
       "    )\n",
       "    (2): Bottleneck(\n",
       "      (conv1): Conv2d(512, 128, kernel_size=(1, 1), stride=(1, 1), bias=False)\n",
       "      (bn1): BatchNorm2d(128, eps=1e-05, momentum=0.1, affine=True, track_running_stats=True)\n",
       "      (conv2): Conv2d(128, 128, kernel_size=(3, 3), stride=(1, 1), padding=(1, 1), bias=False)\n",
       "      (bn2): BatchNorm2d(128, eps=1e-05, momentum=0.1, affine=True, track_running_stats=True)\n",
       "      (conv3): Conv2d(128, 512, kernel_size=(1, 1), stride=(1, 1), bias=False)\n",
       "      (bn3): BatchNorm2d(512, eps=1e-05, momentum=0.1, affine=True, track_running_stats=True)\n",
       "      (relu): ReLU(inplace=True)\n",
       "    )\n",
       "    (3): Bottleneck(\n",
       "      (conv1): Conv2d(512, 128, kernel_size=(1, 1), stride=(1, 1), bias=False)\n",
       "      (bn1): BatchNorm2d(128, eps=1e-05, momentum=0.1, affine=True, track_running_stats=True)\n",
       "      (conv2): Conv2d(128, 128, kernel_size=(3, 3), stride=(1, 1), padding=(1, 1), bias=False)\n",
       "      (bn2): BatchNorm2d(128, eps=1e-05, momentum=0.1, affine=True, track_running_stats=True)\n",
       "      (conv3): Conv2d(128, 512, kernel_size=(1, 1), stride=(1, 1), bias=False)\n",
       "      (bn3): BatchNorm2d(512, eps=1e-05, momentum=0.1, affine=True, track_running_stats=True)\n",
       "      (relu): ReLU(inplace=True)\n",
       "    )\n",
       "  )\n",
       "  (layer3): Sequential(\n",
       "    (0): Bottleneck(\n",
       "      (conv1): Conv2d(512, 256, kernel_size=(1, 1), stride=(1, 1), bias=False)\n",
       "      (bn1): BatchNorm2d(256, eps=1e-05, momentum=0.1, affine=True, track_running_stats=True)\n",
       "      (conv2): Conv2d(256, 256, kernel_size=(3, 3), stride=(2, 2), padding=(1, 1), bias=False)\n",
       "      (bn2): BatchNorm2d(256, eps=1e-05, momentum=0.1, affine=True, track_running_stats=True)\n",
       "      (conv3): Conv2d(256, 1024, kernel_size=(1, 1), stride=(1, 1), bias=False)\n",
       "      (bn3): BatchNorm2d(1024, eps=1e-05, momentum=0.1, affine=True, track_running_stats=True)\n",
       "      (relu): ReLU(inplace=True)\n",
       "      (downsample): Sequential(\n",
       "        (0): Conv2d(512, 1024, kernel_size=(1, 1), stride=(2, 2), bias=False)\n",
       "        (1): BatchNorm2d(1024, eps=1e-05, momentum=0.1, affine=True, track_running_stats=True)\n",
       "      )\n",
       "    )\n",
       "    (1): Bottleneck(\n",
       "      (conv1): Conv2d(1024, 256, kernel_size=(1, 1), stride=(1, 1), bias=False)\n",
       "      (bn1): BatchNorm2d(256, eps=1e-05, momentum=0.1, affine=True, track_running_stats=True)\n",
       "      (conv2): Conv2d(256, 256, kernel_size=(3, 3), stride=(1, 1), padding=(1, 1), bias=False)\n",
       "      (bn2): BatchNorm2d(256, eps=1e-05, momentum=0.1, affine=True, track_running_stats=True)\n",
       "      (conv3): Conv2d(256, 1024, kernel_size=(1, 1), stride=(1, 1), bias=False)\n",
       "      (bn3): BatchNorm2d(1024, eps=1e-05, momentum=0.1, affine=True, track_running_stats=True)\n",
       "      (relu): ReLU(inplace=True)\n",
       "    )\n",
       "    (2): Bottleneck(\n",
       "      (conv1): Conv2d(1024, 256, kernel_size=(1, 1), stride=(1, 1), bias=False)\n",
       "      (bn1): BatchNorm2d(256, eps=1e-05, momentum=0.1, affine=True, track_running_stats=True)\n",
       "      (conv2): Conv2d(256, 256, kernel_size=(3, 3), stride=(1, 1), padding=(1, 1), bias=False)\n",
       "      (bn2): BatchNorm2d(256, eps=1e-05, momentum=0.1, affine=True, track_running_stats=True)\n",
       "      (conv3): Conv2d(256, 1024, kernel_size=(1, 1), stride=(1, 1), bias=False)\n",
       "      (bn3): BatchNorm2d(1024, eps=1e-05, momentum=0.1, affine=True, track_running_stats=True)\n",
       "      (relu): ReLU(inplace=True)\n",
       "    )\n",
       "    (3): Bottleneck(\n",
       "      (conv1): Conv2d(1024, 256, kernel_size=(1, 1), stride=(1, 1), bias=False)\n",
       "      (bn1): BatchNorm2d(256, eps=1e-05, momentum=0.1, affine=True, track_running_stats=True)\n",
       "      (conv2): Conv2d(256, 256, kernel_size=(3, 3), stride=(1, 1), padding=(1, 1), bias=False)\n",
       "      (bn2): BatchNorm2d(256, eps=1e-05, momentum=0.1, affine=True, track_running_stats=True)\n",
       "      (conv3): Conv2d(256, 1024, kernel_size=(1, 1), stride=(1, 1), bias=False)\n",
       "      (bn3): BatchNorm2d(1024, eps=1e-05, momentum=0.1, affine=True, track_running_stats=True)\n",
       "      (relu): ReLU(inplace=True)\n",
       "    )\n",
       "    (4): Bottleneck(\n",
       "      (conv1): Conv2d(1024, 256, kernel_size=(1, 1), stride=(1, 1), bias=False)\n",
       "      (bn1): BatchNorm2d(256, eps=1e-05, momentum=0.1, affine=True, track_running_stats=True)\n",
       "      (conv2): Conv2d(256, 256, kernel_size=(3, 3), stride=(1, 1), padding=(1, 1), bias=False)\n",
       "      (bn2): BatchNorm2d(256, eps=1e-05, momentum=0.1, affine=True, track_running_stats=True)\n",
       "      (conv3): Conv2d(256, 1024, kernel_size=(1, 1), stride=(1, 1), bias=False)\n",
       "      (bn3): BatchNorm2d(1024, eps=1e-05, momentum=0.1, affine=True, track_running_stats=True)\n",
       "      (relu): ReLU(inplace=True)\n",
       "    )\n",
       "    (5): Bottleneck(\n",
       "      (conv1): Conv2d(1024, 256, kernel_size=(1, 1), stride=(1, 1), bias=False)\n",
       "      (bn1): BatchNorm2d(256, eps=1e-05, momentum=0.1, affine=True, track_running_stats=True)\n",
       "      (conv2): Conv2d(256, 256, kernel_size=(3, 3), stride=(1, 1), padding=(1, 1), bias=False)\n",
       "      (bn2): BatchNorm2d(256, eps=1e-05, momentum=0.1, affine=True, track_running_stats=True)\n",
       "      (conv3): Conv2d(256, 1024, kernel_size=(1, 1), stride=(1, 1), bias=False)\n",
       "      (bn3): BatchNorm2d(1024, eps=1e-05, momentum=0.1, affine=True, track_running_stats=True)\n",
       "      (relu): ReLU(inplace=True)\n",
       "    )\n",
       "  )\n",
       "  (layer4): Sequential(\n",
       "    (0): Bottleneck(\n",
       "      (conv1): Conv2d(1024, 512, kernel_size=(1, 1), stride=(1, 1), bias=False)\n",
       "      (bn1): BatchNorm2d(512, eps=1e-05, momentum=0.1, affine=True, track_running_stats=True)\n",
       "      (conv2): Conv2d(512, 512, kernel_size=(3, 3), stride=(2, 2), padding=(1, 1), bias=False)\n",
       "      (bn2): BatchNorm2d(512, eps=1e-05, momentum=0.1, affine=True, track_running_stats=True)\n",
       "      (conv3): Conv2d(512, 2048, kernel_size=(1, 1), stride=(1, 1), bias=False)\n",
       "      (bn3): BatchNorm2d(2048, eps=1e-05, momentum=0.1, affine=True, track_running_stats=True)\n",
       "      (relu): ReLU(inplace=True)\n",
       "      (downsample): Sequential(\n",
       "        (0): Conv2d(1024, 2048, kernel_size=(1, 1), stride=(2, 2), bias=False)\n",
       "        (1): BatchNorm2d(2048, eps=1e-05, momentum=0.1, affine=True, track_running_stats=True)\n",
       "      )\n",
       "    )\n",
       "    (1): Bottleneck(\n",
       "      (conv1): Conv2d(2048, 512, kernel_size=(1, 1), stride=(1, 1), bias=False)\n",
       "      (bn1): BatchNorm2d(512, eps=1e-05, momentum=0.1, affine=True, track_running_stats=True)\n",
       "      (conv2): Conv2d(512, 512, kernel_size=(3, 3), stride=(1, 1), padding=(1, 1), bias=False)\n",
       "      (bn2): BatchNorm2d(512, eps=1e-05, momentum=0.1, affine=True, track_running_stats=True)\n",
       "      (conv3): Conv2d(512, 2048, kernel_size=(1, 1), stride=(1, 1), bias=False)\n",
       "      (bn3): BatchNorm2d(2048, eps=1e-05, momentum=0.1, affine=True, track_running_stats=True)\n",
       "      (relu): ReLU(inplace=True)\n",
       "    )\n",
       "    (2): Bottleneck(\n",
       "      (conv1): Conv2d(2048, 512, kernel_size=(1, 1), stride=(1, 1), bias=False)\n",
       "      (bn1): BatchNorm2d(512, eps=1e-05, momentum=0.1, affine=True, track_running_stats=True)\n",
       "      (conv2): Conv2d(512, 512, kernel_size=(3, 3), stride=(1, 1), padding=(1, 1), bias=False)\n",
       "      (bn2): BatchNorm2d(512, eps=1e-05, momentum=0.1, affine=True, track_running_stats=True)\n",
       "      (conv3): Conv2d(512, 2048, kernel_size=(1, 1), stride=(1, 1), bias=False)\n",
       "      (bn3): BatchNorm2d(2048, eps=1e-05, momentum=0.1, affine=True, track_running_stats=True)\n",
       "      (relu): ReLU(inplace=True)\n",
       "    )\n",
       "  )\n",
       "  (avgpool): AdaptiveAvgPool2d(output_size=(1, 1))\n",
       "  (fc): Linear(in_features=2048, out_features=1000, bias=True)\n",
       "  (classifier): Sequential(\n",
       "    (0): Linear(in_features=2048, out_features=100, bias=True)\n",
       "    (1): Dropout(p=0.5, inplace=False)\n",
       "    (2): ReLU()\n",
       "    (3): Linear(in_features=100, out_features=10, bias=True)\n",
       "  )\n",
       ")"
      ]
     },
     "execution_count": 66,
     "metadata": {
      "tags": []
     },
     "output_type": "execute_result"
    }
   ],
   "source": [
    "model_resnet50 = torch.hub.load('pytorch/vision:v0.6.0', 'resnet50', pretrained=False)\n",
    "model = model_resnet50\n",
    "# model.eval()\n",
    "# because I want to do finetuning then I set requires_grad = False\n",
    "# I will remove these two lines if I just want to train entire model\n",
    "# for param in model.parameters():\n",
    "#     param.requires_grad = False\n",
    "\n",
    "model.classifier = nn.Sequential(\n",
    "    nn.Linear(2048, 100),nn.Dropout(0.5) , nn.ReLU(), nn.Linear(100, 10)\n",
    ")\n",
    "model.train()\n"
   ]
  },
  {
   "cell_type": "code",
   "execution_count": 71,
   "metadata": {
    "colab": {
     "base_uri": "https://localhost:8080/"
    },
    "id": "_2qubFSVbbwO",
    "outputId": "d6a2303d-9237-4a06-bebc-584bb9887166"
   },
   "outputs": [
    {
     "name": "stdout",
     "output_type": "stream",
     "text": [
      "Epoch [1/10], Step [80/273], Loss: 1.2871\n",
      "Epoch [1/10], Step [160/273], Loss: 1.0796\n",
      "Epoch [1/10], Step [240/273], Loss: 1.1681\n",
      "Epoch [2/10], Step [80/273], Loss: 0.6162\n",
      "Epoch [2/10], Step [160/273], Loss: 0.6015\n",
      "Epoch [2/10], Step [240/273], Loss: 0.4123\n",
      "Epoch [3/10], Step [80/273], Loss: 0.6599\n",
      "Epoch [3/10], Step [160/273], Loss: 0.6591\n",
      "Epoch [3/10], Step [240/273], Loss: 0.4073\n",
      "Epoch [4/10], Step [80/273], Loss: 0.4531\n",
      "Epoch [4/10], Step [160/273], Loss: 0.4329\n",
      "Epoch [4/10], Step [240/273], Loss: 0.8529\n",
      "Epoch [5/10], Step [80/273], Loss: 0.3272\n",
      "Epoch [5/10], Step [160/273], Loss: 0.3481\n",
      "Epoch [5/10], Step [240/273], Loss: 0.3560\n",
      "Epoch [6/10], Step [80/273], Loss: 0.6107\n",
      "Epoch [6/10], Step [160/273], Loss: 0.5435\n",
      "Epoch [6/10], Step [240/273], Loss: 0.5916\n",
      "Epoch [7/10], Step [80/273], Loss: 0.4814\n",
      "Epoch [7/10], Step [160/273], Loss: 0.4217\n",
      "Epoch [7/10], Step [240/273], Loss: 0.7244\n",
      "Epoch [8/10], Step [80/273], Loss: 0.2179\n",
      "Epoch [8/10], Step [160/273], Loss: 0.3009\n",
      "Epoch [8/10], Step [240/273], Loss: 0.6951\n",
      "Epoch [9/10], Step [80/273], Loss: 0.3535\n",
      "Epoch [9/10], Step [160/273], Loss: 0.3834\n",
      "Epoch [9/10], Step [240/273], Loss: 0.6282\n",
      "Epoch [10/10], Step [80/273], Loss: 0.1551\n",
      "Epoch [10/10], Step [160/273], Loss: 0.3808\n",
      "Epoch [10/10], Step [240/273], Loss: 0.3157\n"
     ]
    }
   ],
   "source": [
    "# You can use the same training mechanism above. Now, you will use ResNet-50 as your model    \n",
    "# model = model_resnet50\n",
    "\n",
    "model.cuda()\n",
    "model.train()\n",
    "# Loss and optimizer\n",
    "criterion = nn.CrossEntropyLoss()\n",
    "optimizer = optim.Adam(model.parameters(), lr=learning_rate)\n",
    "losses_iter_val = []\n",
    "losses_epoch_val = []\n",
    "losses_iter_train = []\n",
    "losses_epoch_train = []\n",
    "# Train Network\n",
    " \n",
    "for epoch in range(n_epochs):\n",
    "    losses = []\n",
    "    lossesv = []\n",
    "    iter_num_val = 0\n",
    "    iter_num = 0\n",
    "    if epoch % 3 == 1:\n",
    "        with torch.no_grad():\n",
    "            model.eval()\n",
    "            # Measure the performance in validation set.\n",
    "            for batch_idx, (datav, targetsv) in enumerate(val_loader):\n",
    "                datav = datav.cuda()\n",
    "                targetsv = targetsv.cuda()\n",
    "                iter_num_val +=1            \n",
    "                # Forward pass\n",
    "                scoresv = model(datav)\n",
    "                lossv = criterion(scoresv, targetsv)\n",
    "                # print(lossv, \"lossv\")\n",
    "                lossesv.append(lossv.item())\n",
    "                \n",
    "            losses_epoch_val.append(np.sum(lossesv)/iter_num_val)\n",
    "   \n",
    "    for batch_idx, (data, targets) in enumerate(train_loader):\n",
    "        # Get data to cuda if possible\n",
    "        data = data.cuda()\n",
    "        targets = targets.cuda()\n",
    "\n",
    "        # forward\n",
    "        scores = model(data)\n",
    "        loss = criterion(scores, targets)\n",
    "\n",
    "        losses.append(loss.item())\n",
    "        # print(losses, 'losses')\n",
    "        # backward\n",
    "        optimizer.zero_grad()\n",
    "        loss.backward()\n",
    "        iter_num +=1\n",
    "        # gradient descent or adam step\n",
    "        optimizer.step()\n",
    "        if (batch_idx+1) % 80 == 0:\n",
    "            print (f'Epoch [{epoch+1}/{n_epochs}], Step [{batch_idx+1}/{n_total_steps}], Loss: {loss.item():.4f}')\n",
    "    losses_epoch_train.append(np.sum(losses)/iter_num)\n",
    "    # print(f\"Cost at epoch {epoch} is {sum(losses)/len(losses):.5f}\")\n"
   ]
  },
  {
   "cell_type": "code",
   "execution_count": 72,
   "metadata": {
    "colab": {
     "base_uri": "https://localhost:8080/"
    },
    "id": "IaWAa7VyYLw6",
    "outputId": "84762690-d444-4f6e-d17b-7044de2930e0"
   },
   "outputs": [
    {
     "name": "stdout",
     "output_type": "stream",
     "text": [
      "Cheching accuracy on training data\n",
      "Got 7958 / 8728 with accuracy 91.18\n",
      "Cheching accuracy on validation data\n",
      "Got 1206 / 1507 with accuracy 80.03\n"
     ]
    }
   ],
   "source": [
    "def check_accuracy(loader, model):\n",
    "    # if model.train():\n",
    "    #     print(\"Checking accuracy on training data\")\n",
    "    # else:\n",
    "    #     print(\"Checking accuracy on test data\")\n",
    "\n",
    "    num_correct = 0\n",
    "    num_samples = 0\n",
    "    model.eval()\n",
    "\n",
    "    with torch.no_grad():\n",
    "        for x, y in loader:\n",
    "            x = x.cuda()\n",
    "            y = y.cuda()\n",
    "\n",
    "            scores = model(x)\n",
    "            _, predictions = scores.max(1)\n",
    "            num_correct += (predictions == y).sum()\n",
    "            num_samples += predictions.size(0)\n",
    "\n",
    "        print(\n",
    "            f\"Got {num_correct} / {num_samples} with accuracy {float(num_correct)/float(num_samples)*100:.2f}\"\n",
    "        )\n",
    "\n",
    "\n",
    "# Check accuracy on training to see how good our model\n",
    "print('Cheching accuracy on training data')\n",
    "check_accuracy(train_loader, model)\n",
    "print('Cheching accuracy on validation data')\n",
    "check_accuracy(val_loader, model)"
   ]
  },
  {
   "cell_type": "markdown",
   "metadata": {
    "id": "WVmwhMohbbwO"
   },
   "source": [
    "## Testing"
   ]
  },
  {
   "cell_type": "code",
   "execution_count": 73,
   "metadata": {
    "colab": {
     "base_uri": "https://localhost:8080/"
    },
    "id": "heYd-BL-bbwO",
    "outputId": "c1761062-ec38-4773-e15e-07434cd73510"
   },
   "outputs": [
    {
     "name": "stdout",
     "output_type": "stream",
     "text": [
      "Cheching accuracy on test data\n",
      "Got 941 / 1404 with accuracy 67.02\n"
     ]
    }
   ],
   "source": [
    "# Check accuracy on test to see how good our model\n",
    "model.eval()\n",
    "print('Cheching accuracy on test data')\n",
    "check_accuracy(test_loader, model)\n"
   ]
  },
  {
   "cell_type": "markdown",
   "metadata": {
    "id": "isFgCqvIbbwO"
   },
   "source": [
    "### Plot the training and validation losses versus number of iterations or epochs for ResNet-50 on the same plot and obtain test accuracy"
   ]
  },
  {
   "cell_type": "code",
   "execution_count": 76,
   "metadata": {
    "colab": {
     "base_uri": "https://localhost:8080/",
     "height": 282
    },
    "id": "TtAv6eaBbbwP",
    "outputId": "63cf8c71-4570-4a30-ecb0-ae36c7ee04fa"
   },
   "outputs": [
    {
     "data": {
      "text/plain": [
       "<matplotlib.legend.Legend at 0x7fbdb026bcc0>"
      ]
     },
     "execution_count": 76,
     "metadata": {
      "tags": []
     },
     "output_type": "execute_result"
    },
    {
     "data": {
      "image/png": "[encoded data removed]",
      "text/plain": [
       "<Figure size 432x288 with 1 Axes>"
      ]
     },
     "metadata": {
      "needs_background": "light",
      "tags": []
     },
     "output_type": "display_data"
    }
   ],
   "source": [
    "plt.plot(range(n_epochs), losses_epoch_train)\n",
    "plt.plot(range(n_epochs), losses_epoch_val)\n",
    "\n",
    "plt.legend([\"Train_loss\", \"Validation_loss\"])"
   ]
  },
  {
   "cell_type": "markdown",
   "metadata": {
    "id": "i9Rr28VnbbwP"
   },
   "source": [
    "# DenseNet-121\n",
    "## Train DenseNet-121\n",
    "\n",
    "Avoid overfitting and underfitting as much as possible. **Try to get highest validation and test accuracy (at least 65%)**"
   ]
  },
  {
   "cell_type": "code",
   "execution_count": 37,
   "metadata": {
    "colab": {
     "base_uri": "https://localhost:8080/"
    },
    "id": "xsFlHEGRbbwP",
    "outputId": "690825ab-2de1-4a0a-d607-dd7bd126430f"
   },
   "outputs": [
    {
     "name": "stderr",
     "output_type": "stream",
     "text": [
      "Using cache found in /root/.cache/torch/hub/pytorch_vision_v0.6.0\n"
     ]
    },
    {
     "data": {
      "text/plain": [
       "DenseNet(\n",
       "  (features): Sequential(\n",
       "    (conv0): Conv2d(3, 64, kernel_size=(7, 7), stride=(2, 2), padding=(3, 3), bias=False)\n",
       "    (norm0): BatchNorm2d(64, eps=1e-05, momentum=0.1, affine=True, track_running_stats=True)\n",
       "    (relu0): ReLU(inplace=True)\n",
       "    (pool0): MaxPool2d(kernel_size=3, stride=2, padding=1, dilation=1, ceil_mode=False)\n",
       "    (denseblock1): _DenseBlock(\n",
       "      (denselayer1): _DenseLayer(\n",
       "        (norm1): BatchNorm2d(64, eps=1e-05, momentum=0.1, affine=True, track_running_stats=True)\n",
       "        (relu1): ReLU(inplace=True)\n",
       "        (conv1): Conv2d(64, 128, kernel_size=(1, 1), stride=(1, 1), bias=False)\n",
       "        (norm2): BatchNorm2d(128, eps=1e-05, momentum=0.1, affine=True, track_running_stats=True)\n",
       "        (relu2): ReLU(inplace=True)\n",
       "        (conv2): Conv2d(128, 32, kernel_size=(3, 3), stride=(1, 1), padding=(1, 1), bias=False)\n",
       "      )\n",
       "      (denselayer2): _DenseLayer(\n",
       "        (norm1): BatchNorm2d(96, eps=1e-05, momentum=0.1, affine=True, track_running_stats=True)\n",
       "        (relu1): ReLU(inplace=True)\n",
       "        (conv1): Conv2d(96, 128, kernel_size=(1, 1), stride=(1, 1), bias=False)\n",
       "        (norm2): BatchNorm2d(128, eps=1e-05, momentum=0.1, affine=True, track_running_stats=True)\n",
       "        (relu2): ReLU(inplace=True)\n",
       "        (conv2): Conv2d(128, 32, kernel_size=(3, 3), stride=(1, 1), padding=(1, 1), bias=False)\n",
       "      )\n",
       "      (denselayer3): _DenseLayer(\n",
       "        (norm1): BatchNorm2d(128, eps=1e-05, momentum=0.1, affine=True, track_running_stats=True)\n",
       "        (relu1): ReLU(inplace=True)\n",
       "        (conv1): Conv2d(128, 128, kernel_size=(1, 1), stride=(1, 1), bias=False)\n",
       "        (norm2): BatchNorm2d(128, eps=1e-05, momentum=0.1, affine=True, track_running_stats=True)\n",
       "        (relu2): ReLU(inplace=True)\n",
       "        (conv2): Conv2d(128, 32, kernel_size=(3, 3), stride=(1, 1), padding=(1, 1), bias=False)\n",
       "      )\n",
       "      (denselayer4): _DenseLayer(\n",
       "        (norm1): BatchNorm2d(160, eps=1e-05, momentum=0.1, affine=True, track_running_stats=True)\n",
       "        (relu1): ReLU(inplace=True)\n",
       "        (conv1): Conv2d(160, 128, kernel_size=(1, 1), stride=(1, 1), bias=False)\n",
       "        (norm2): BatchNorm2d(128, eps=1e-05, momentum=0.1, affine=True, track_running_stats=True)\n",
       "        (relu2): ReLU(inplace=True)\n",
       "        (conv2): Conv2d(128, 32, kernel_size=(3, 3), stride=(1, 1), padding=(1, 1), bias=False)\n",
       "      )\n",
       "      (denselayer5): _DenseLayer(\n",
       "        (norm1): BatchNorm2d(192, eps=1e-05, momentum=0.1, affine=True, track_running_stats=True)\n",
       "        (relu1): ReLU(inplace=True)\n",
       "        (conv1): Conv2d(192, 128, kernel_size=(1, 1), stride=(1, 1), bias=False)\n",
       "        (norm2): BatchNorm2d(128, eps=1e-05, momentum=0.1, affine=True, track_running_stats=True)\n",
       "        (relu2): ReLU(inplace=True)\n",
       "        (conv2): Conv2d(128, 32, kernel_size=(3, 3), stride=(1, 1), padding=(1, 1), bias=False)\n",
       "      )\n",
       "      (denselayer6): _DenseLayer(\n",
       "        (norm1): BatchNorm2d(224, eps=1e-05, momentum=0.1, affine=True, track_running_stats=True)\n",
       "        (relu1): ReLU(inplace=True)\n",
       "        (conv1): Conv2d(224, 128, kernel_size=(1, 1), stride=(1, 1), bias=False)\n",
       "        (norm2): BatchNorm2d(128, eps=1e-05, momentum=0.1, affine=True, track_running_stats=True)\n",
       "        (relu2): ReLU(inplace=True)\n",
       "        (conv2): Conv2d(128, 32, kernel_size=(3, 3), stride=(1, 1), padding=(1, 1), bias=False)\n",
       "      )\n",
       "    )\n",
       "    (transition1): _Transition(\n",
       "      (norm): BatchNorm2d(256, eps=1e-05, momentum=0.1, affine=True, track_running_stats=True)\n",
       "      (relu): ReLU(inplace=True)\n",
       "      (conv): Conv2d(256, 128, kernel_size=(1, 1), stride=(1, 1), bias=False)\n",
       "      (pool): AvgPool2d(kernel_size=2, stride=2, padding=0)\n",
       "    )\n",
       "    (denseblock2): _DenseBlock(\n",
       "      (denselayer1): _DenseLayer(\n",
       "        (norm1): BatchNorm2d(128, eps=1e-05, momentum=0.1, affine=True, track_running_stats=True)\n",
       "        (relu1): ReLU(inplace=True)\n",
       "        (conv1): Conv2d(128, 128, kernel_size=(1, 1), stride=(1, 1), bias=False)\n",
       "        (norm2): BatchNorm2d(128, eps=1e-05, momentum=0.1, affine=True, track_running_stats=True)\n",
       "        (relu2): ReLU(inplace=True)\n",
       "        (conv2): Conv2d(128, 32, kernel_size=(3, 3), stride=(1, 1), padding=(1, 1), bias=False)\n",
       "      )\n",
       "      (denselayer2): _DenseLayer(\n",
       "        (norm1): BatchNorm2d(160, eps=1e-05, momentum=0.1, affine=True, track_running_stats=True)\n",
       "        (relu1): ReLU(inplace=True)\n",
       "        (conv1): Conv2d(160, 128, kernel_size=(1, 1), stride=(1, 1), bias=False)\n",
       "        (norm2): BatchNorm2d(128, eps=1e-05, momentum=0.1, affine=True, track_running_stats=True)\n",
       "        (relu2): ReLU(inplace=True)\n",
       "        (conv2): Conv2d(128, 32, kernel_size=(3, 3), stride=(1, 1), padding=(1, 1), bias=False)\n",
       "      )\n",
       "      (denselayer3): _DenseLayer(\n",
       "        (norm1): BatchNorm2d(192, eps=1e-05, momentum=0.1, affine=True, track_running_stats=True)\n",
       "        (relu1): ReLU(inplace=True)\n",
       "        (conv1): Conv2d(192, 128, kernel_size=(1, 1), stride=(1, 1), bias=False)\n",
       "        (norm2): BatchNorm2d(128, eps=1e-05, momentum=0.1, affine=True, track_running_stats=True)\n",
       "        (relu2): ReLU(inplace=True)\n",
       "        (conv2): Conv2d(128, 32, kernel_size=(3, 3), stride=(1, 1), padding=(1, 1), bias=False)\n",
       "      )\n",
       "      (denselayer4): _DenseLayer(\n",
       "        (norm1): BatchNorm2d(224, eps=1e-05, momentum=0.1, affine=True, track_running_stats=True)\n",
       "        (relu1): ReLU(inplace=True)\n",
       "        (conv1): Conv2d(224, 128, kernel_size=(1, 1), stride=(1, 1), bias=False)\n",
       "        (norm2): BatchNorm2d(128, eps=1e-05, momentum=0.1, affine=True, track_running_stats=True)\n",
       "        (relu2): ReLU(inplace=True)\n",
       "        (conv2): Conv2d(128, 32, kernel_size=(3, 3), stride=(1, 1), padding=(1, 1), bias=False)\n",
       "      )\n",
       "      (denselayer5): _DenseLayer(\n",
       "        (norm1): BatchNorm2d(256, eps=1e-05, momentum=0.1, affine=True, track_running_stats=True)\n",
       "        (relu1): ReLU(inplace=True)\n",
       "        (conv1): Conv2d(256, 128, kernel_size=(1, 1), stride=(1, 1), bias=False)\n",
       "        (norm2): BatchNorm2d(128, eps=1e-05, momentum=0.1, affine=True, track_running_stats=True)\n",
       "        (relu2): ReLU(inplace=True)\n",
       "        (conv2): Conv2d(128, 32, kernel_size=(3, 3), stride=(1, 1), padding=(1, 1), bias=False)\n",
       "      )\n",
       "      (denselayer6): _DenseLayer(\n",
       "        (norm1): BatchNorm2d(288, eps=1e-05, momentum=0.1, affine=True, track_running_stats=True)\n",
       "        (relu1): ReLU(inplace=True)\n",
       "        (conv1): Conv2d(288, 128, kernel_size=(1, 1), stride=(1, 1), bias=False)\n",
       "        (norm2): BatchNorm2d(128, eps=1e-05, momentum=0.1, affine=True, track_running_stats=True)\n",
       "        (relu2): ReLU(inplace=True)\n",
       "        (conv2): Conv2d(128, 32, kernel_size=(3, 3), stride=(1, 1), padding=(1, 1), bias=False)\n",
       "      )\n",
       "      (denselayer7): _DenseLayer(\n",
       "        (norm1): BatchNorm2d(320, eps=1e-05, momentum=0.1, affine=True, track_running_stats=True)\n",
       "        (relu1): ReLU(inplace=True)\n",
       "        (conv1): Conv2d(320, 128, kernel_size=(1, 1), stride=(1, 1), bias=False)\n",
       "        (norm2): BatchNorm2d(128, eps=1e-05, momentum=0.1, affine=True, track_running_stats=True)\n",
       "        (relu2): ReLU(inplace=True)\n",
       "        (conv2): Conv2d(128, 32, kernel_size=(3, 3), stride=(1, 1), padding=(1, 1), bias=False)\n",
       "      )\n",
       "      (denselayer8): _DenseLayer(\n",
       "        (norm1): BatchNorm2d(352, eps=1e-05, momentum=0.1, affine=True, track_running_stats=True)\n",
       "        (relu1): ReLU(inplace=True)\n",
       "        (conv1): Conv2d(352, 128, kernel_size=(1, 1), stride=(1, 1), bias=False)\n",
       "        (norm2): BatchNorm2d(128, eps=1e-05, momentum=0.1, affine=True, track_running_stats=True)\n",
       "        (relu2): ReLU(inplace=True)\n",
       "        (conv2): Conv2d(128, 32, kernel_size=(3, 3), stride=(1, 1), padding=(1, 1), bias=False)\n",
       "      )\n",
       "      (denselayer9): _DenseLayer(\n",
       "        (norm1): BatchNorm2d(384, eps=1e-05, momentum=0.1, affine=True, track_running_stats=True)\n",
       "        (relu1): ReLU(inplace=True)\n",
       "        (conv1): Conv2d(384, 128, kernel_size=(1, 1), stride=(1, 1), bias=False)\n",
       "        (norm2): BatchNorm2d(128, eps=1e-05, momentum=0.1, affine=True, track_running_stats=True)\n",
       "        (relu2): ReLU(inplace=True)\n",
       "        (conv2): Conv2d(128, 32, kernel_size=(3, 3), stride=(1, 1), padding=(1, 1), bias=False)\n",
       "      )\n",
       "      (denselayer10): _DenseLayer(\n",
       "        (norm1): BatchNorm2d(416, eps=1e-05, momentum=0.1, affine=True, track_running_stats=True)\n",
       "        (relu1): ReLU(inplace=True)\n",
       "        (conv1): Conv2d(416, 128, kernel_size=(1, 1), stride=(1, 1), bias=False)\n",
       "        (norm2): BatchNorm2d(128, eps=1e-05, momentum=0.1, affine=True, track_running_stats=True)\n",
       "        (relu2): ReLU(inplace=True)\n",
       "        (conv2): Conv2d(128, 32, kernel_size=(3, 3), stride=(1, 1), padding=(1, 1), bias=False)\n",
       "      )\n",
       "      (denselayer11): _DenseLayer(\n",
       "        (norm1): BatchNorm2d(448, eps=1e-05, momentum=0.1, affine=True, track_running_stats=True)\n",
       "        (relu1): ReLU(inplace=True)\n",
       "        (conv1): Conv2d(448, 128, kernel_size=(1, 1), stride=(1, 1), bias=False)\n",
       "        (norm2): BatchNorm2d(128, eps=1e-05, momentum=0.1, affine=True, track_running_stats=True)\n",
       "        (relu2): ReLU(inplace=True)\n",
       "        (conv2): Conv2d(128, 32, kernel_size=(3, 3), stride=(1, 1), padding=(1, 1), bias=False)\n",
       "      )\n",
       "      (denselayer12): _DenseLayer(\n",
       "        (norm1): BatchNorm2d(480, eps=1e-05, momentum=0.1, affine=True, track_running_stats=True)\n",
       "        (relu1): ReLU(inplace=True)\n",
       "        (conv1): Conv2d(480, 128, kernel_size=(1, 1), stride=(1, 1), bias=False)\n",
       "        (norm2): BatchNorm2d(128, eps=1e-05, momentum=0.1, affine=True, track_running_stats=True)\n",
       "        (relu2): ReLU(inplace=True)\n",
       "        (conv2): Conv2d(128, 32, kernel_size=(3, 3), stride=(1, 1), padding=(1, 1), bias=False)\n",
       "      )\n",
       "    )\n",
       "    (transition2): _Transition(\n",
       "      (norm): BatchNorm2d(512, eps=1e-05, momentum=0.1, affine=True, track_running_stats=True)\n",
       "      (relu): ReLU(inplace=True)\n",
       "      (conv): Conv2d(512, 256, kernel_size=(1, 1), stride=(1, 1), bias=False)\n",
       "      (pool): AvgPool2d(kernel_size=2, stride=2, padding=0)\n",
       "    )\n",
       "    (denseblock3): _DenseBlock(\n",
       "      (denselayer1): _DenseLayer(\n",
       "        (norm1): BatchNorm2d(256, eps=1e-05, momentum=0.1, affine=True, track_running_stats=True)\n",
       "        (relu1): ReLU(inplace=True)\n",
       "        (conv1): Conv2d(256, 128, kernel_size=(1, 1), stride=(1, 1), bias=False)\n",
       "        (norm2): BatchNorm2d(128, eps=1e-05, momentum=0.1, affine=True, track_running_stats=True)\n",
       "        (relu2): ReLU(inplace=True)\n",
       "        (conv2): Conv2d(128, 32, kernel_size=(3, 3), stride=(1, 1), padding=(1, 1), bias=False)\n",
       "      )\n",
       "      (denselayer2): _DenseLayer(\n",
       "        (norm1): BatchNorm2d(288, eps=1e-05, momentum=0.1, affine=True, track_running_stats=True)\n",
       "        (relu1): ReLU(inplace=True)\n",
       "        (conv1): Conv2d(288, 128, kernel_size=(1, 1), stride=(1, 1), bias=False)\n",
       "        (norm2): BatchNorm2d(128, eps=1e-05, momentum=0.1, affine=True, track_running_stats=True)\n",
       "        (relu2): ReLU(inplace=True)\n",
       "        (conv2): Conv2d(128, 32, kernel_size=(3, 3), stride=(1, 1), padding=(1, 1), bias=False)\n",
       "      )\n",
       "      (denselayer3): _DenseLayer(\n",
       "        (norm1): BatchNorm2d(320, eps=1e-05, momentum=0.1, affine=True, track_running_stats=True)\n",
       "        (relu1): ReLU(inplace=True)\n",
       "        (conv1): Conv2d(320, 128, kernel_size=(1, 1), stride=(1, 1), bias=False)\n",
       "        (norm2): BatchNorm2d(128, eps=1e-05, momentum=0.1, affine=True, track_running_stats=True)\n",
       "        (relu2): ReLU(inplace=True)\n",
       "        (conv2): Conv2d(128, 32, kernel_size=(3, 3), stride=(1, 1), padding=(1, 1), bias=False)\n",
       "      )\n",
       "      (denselayer4): _DenseLayer(\n",
       "        (norm1): BatchNorm2d(352, eps=1e-05, momentum=0.1, affine=True, track_running_stats=True)\n",
       "        (relu1): ReLU(inplace=True)\n",
       "        (conv1): Conv2d(352, 128, kernel_size=(1, 1), stride=(1, 1), bias=False)\n",
       "        (norm2): BatchNorm2d(128, eps=1e-05, momentum=0.1, affine=True, track_running_stats=True)\n",
       "        (relu2): ReLU(inplace=True)\n",
       "        (conv2): Conv2d(128, 32, kernel_size=(3, 3), stride=(1, 1), padding=(1, 1), bias=False)\n",
       "      )\n",
       "      (denselayer5): _DenseLayer(\n",
       "        (norm1): BatchNorm2d(384, eps=1e-05, momentum=0.1, affine=True, track_running_stats=True)\n",
       "        (relu1): ReLU(inplace=True)\n",
       "        (conv1): Conv2d(384, 128, kernel_size=(1, 1), stride=(1, 1), bias=False)\n",
       "        (norm2): BatchNorm2d(128, eps=1e-05, momentum=0.1, affine=True, track_running_stats=True)\n",
       "        (relu2): ReLU(inplace=True)\n",
       "        (conv2): Conv2d(128, 32, kernel_size=(3, 3), stride=(1, 1), padding=(1, 1), bias=False)\n",
       "      )\n",
       "      (denselayer6): _DenseLayer(\n",
       "        (norm1): BatchNorm2d(416, eps=1e-05, momentum=0.1, affine=True, track_running_stats=True)\n",
       "        (relu1): ReLU(inplace=True)\n",
       "        (conv1): Conv2d(416, 128, kernel_size=(1, 1), stride=(1, 1), bias=False)\n",
       "        (norm2): BatchNorm2d(128, eps=1e-05, momentum=0.1, affine=True, track_running_stats=True)\n",
       "        (relu2): ReLU(inplace=True)\n",
       "        (conv2): Conv2d(128, 32, kernel_size=(3, 3), stride=(1, 1), padding=(1, 1), bias=False)\n",
       "      )\n",
       "      (denselayer7): _DenseLayer(\n",
       "        (norm1): BatchNorm2d(448, eps=1e-05, momentum=0.1, affine=True, track_running_stats=True)\n",
       "        (relu1): ReLU(inplace=True)\n",
       "        (conv1): Conv2d(448, 128, kernel_size=(1, 1), stride=(1, 1), bias=False)\n",
       "        (norm2): BatchNorm2d(128, eps=1e-05, momentum=0.1, affine=True, track_running_stats=True)\n",
       "        (relu2): ReLU(inplace=True)\n",
       "        (conv2): Conv2d(128, 32, kernel_size=(3, 3), stride=(1, 1), padding=(1, 1), bias=False)\n",
       "      )\n",
       "      (denselayer8): _DenseLayer(\n",
       "        (norm1): BatchNorm2d(480, eps=1e-05, momentum=0.1, affine=True, track_running_stats=True)\n",
       "        (relu1): ReLU(inplace=True)\n",
       "        (conv1): Conv2d(480, 128, kernel_size=(1, 1), stride=(1, 1), bias=False)\n",
       "        (norm2): BatchNorm2d(128, eps=1e-05, momentum=0.1, affine=True, track_running_stats=True)\n",
       "        (relu2): ReLU(inplace=True)\n",
       "        (conv2): Conv2d(128, 32, kernel_size=(3, 3), stride=(1, 1), padding=(1, 1), bias=False)\n",
       "      )\n",
       "      (denselayer9): _DenseLayer(\n",
       "        (norm1): BatchNorm2d(512, eps=1e-05, momentum=0.1, affine=True, track_running_stats=True)\n",
       "        (relu1): ReLU(inplace=True)\n",
       "        (conv1): Conv2d(512, 128, kernel_size=(1, 1), stride=(1, 1), bias=False)\n",
       "        (norm2): BatchNorm2d(128, eps=1e-05, momentum=0.1, affine=True, track_running_stats=True)\n",
       "        (relu2): ReLU(inplace=True)\n",
       "        (conv2): Conv2d(128, 32, kernel_size=(3, 3), stride=(1, 1), padding=(1, 1), bias=False)\n",
       "      )\n",
       "      (denselayer10): _DenseLayer(\n",
       "        (norm1): BatchNorm2d(544, eps=1e-05, momentum=0.1, affine=True, track_running_stats=True)\n",
       "        (relu1): ReLU(inplace=True)\n",
       "        (conv1): Conv2d(544, 128, kernel_size=(1, 1), stride=(1, 1), bias=False)\n",
       "        (norm2): BatchNorm2d(128, eps=1e-05, momentum=0.1, affine=True, track_running_stats=True)\n",
       "        (relu2): ReLU(inplace=True)\n",
       "        (conv2): Conv2d(128, 32, kernel_size=(3, 3), stride=(1, 1), padding=(1, 1), bias=False)\n",
       "      )\n",
       "      (denselayer11): _DenseLayer(\n",
       "        (norm1): BatchNorm2d(576, eps=1e-05, momentum=0.1, affine=True, track_running_stats=True)\n",
       "        (relu1): ReLU(inplace=True)\n",
       "        (conv1): Conv2d(576, 128, kernel_size=(1, 1), stride=(1, 1), bias=False)\n",
       "        (norm2): BatchNorm2d(128, eps=1e-05, momentum=0.1, affine=True, track_running_stats=True)\n",
       "        (relu2): ReLU(inplace=True)\n",
       "        (conv2): Conv2d(128, 32, kernel_size=(3, 3), stride=(1, 1), padding=(1, 1), bias=False)\n",
       "      )\n",
       "      (denselayer12): _DenseLayer(\n",
       "        (norm1): BatchNorm2d(608, eps=1e-05, momentum=0.1, affine=True, track_running_stats=True)\n",
       "        (relu1): ReLU(inplace=True)\n",
       "        (conv1): Conv2d(608, 128, kernel_size=(1, 1), stride=(1, 1), bias=False)\n",
       "        (norm2): BatchNorm2d(128, eps=1e-05, momentum=0.1, affine=True, track_running_stats=True)\n",
       "        (relu2): ReLU(inplace=True)\n",
       "        (conv2): Conv2d(128, 32, kernel_size=(3, 3), stride=(1, 1), padding=(1, 1), bias=False)\n",
       "      )\n",
       "      (denselayer13): _DenseLayer(\n",
       "        (norm1): BatchNorm2d(640, eps=1e-05, momentum=0.1, affine=True, track_running_stats=True)\n",
       "        (relu1): ReLU(inplace=True)\n",
       "        (conv1): Conv2d(640, 128, kernel_size=(1, 1), stride=(1, 1), bias=False)\n",
       "        (norm2): BatchNorm2d(128, eps=1e-05, momentum=0.1, affine=True, track_running_stats=True)\n",
       "        (relu2): ReLU(inplace=True)\n",
       "        (conv2): Conv2d(128, 32, kernel_size=(3, 3), stride=(1, 1), padding=(1, 1), bias=False)\n",
       "      )\n",
       "      (denselayer14): _DenseLayer(\n",
       "        (norm1): BatchNorm2d(672, eps=1e-05, momentum=0.1, affine=True, track_running_stats=True)\n",
       "        (relu1): ReLU(inplace=True)\n",
       "        (conv1): Conv2d(672, 128, kernel_size=(1, 1), stride=(1, 1), bias=False)\n",
       "        (norm2): BatchNorm2d(128, eps=1e-05, momentum=0.1, affine=True, track_running_stats=True)\n",
       "        (relu2): ReLU(inplace=True)\n",
       "        (conv2): Conv2d(128, 32, kernel_size=(3, 3), stride=(1, 1), padding=(1, 1), bias=False)\n",
       "      )\n",
       "      (denselayer15): _DenseLayer(\n",
       "        (norm1): BatchNorm2d(704, eps=1e-05, momentum=0.1, affine=True, track_running_stats=True)\n",
       "        (relu1): ReLU(inplace=True)\n",
       "        (conv1): Conv2d(704, 128, kernel_size=(1, 1), stride=(1, 1), bias=False)\n",
       "        (norm2): BatchNorm2d(128, eps=1e-05, momentum=0.1, affine=True, track_running_stats=True)\n",
       "        (relu2): ReLU(inplace=True)\n",
       "        (conv2): Conv2d(128, 32, kernel_size=(3, 3), stride=(1, 1), padding=(1, 1), bias=False)\n",
       "      )\n",
       "      (denselayer16): _DenseLayer(\n",
       "        (norm1): BatchNorm2d(736, eps=1e-05, momentum=0.1, affine=True, track_running_stats=True)\n",
       "        (relu1): ReLU(inplace=True)\n",
       "        (conv1): Conv2d(736, 128, kernel_size=(1, 1), stride=(1, 1), bias=False)\n",
       "        (norm2): BatchNorm2d(128, eps=1e-05, momentum=0.1, affine=True, track_running_stats=True)\n",
       "        (relu2): ReLU(inplace=True)\n",
       "        (conv2): Conv2d(128, 32, kernel_size=(3, 3), stride=(1, 1), padding=(1, 1), bias=False)\n",
       "      )\n",
       "      (denselayer17): _DenseLayer(\n",
       "        (norm1): BatchNorm2d(768, eps=1e-05, momentum=0.1, affine=True, track_running_stats=True)\n",
       "        (relu1): ReLU(inplace=True)\n",
       "        (conv1): Conv2d(768, 128, kernel_size=(1, 1), stride=(1, 1), bias=False)\n",
       "        (norm2): BatchNorm2d(128, eps=1e-05, momentum=0.1, affine=True, track_running_stats=True)\n",
       "        (relu2): ReLU(inplace=True)\n",
       "        (conv2): Conv2d(128, 32, kernel_size=(3, 3), stride=(1, 1), padding=(1, 1), bias=False)\n",
       "      )\n",
       "      (denselayer18): _DenseLayer(\n",
       "        (norm1): BatchNorm2d(800, eps=1e-05, momentum=0.1, affine=True, track_running_stats=True)\n",
       "        (relu1): ReLU(inplace=True)\n",
       "        (conv1): Conv2d(800, 128, kernel_size=(1, 1), stride=(1, 1), bias=False)\n",
       "        (norm2): BatchNorm2d(128, eps=1e-05, momentum=0.1, affine=True, track_running_stats=True)\n",
       "        (relu2): ReLU(inplace=True)\n",
       "        (conv2): Conv2d(128, 32, kernel_size=(3, 3), stride=(1, 1), padding=(1, 1), bias=False)\n",
       "      )\n",
       "      (denselayer19): _DenseLayer(\n",
       "        (norm1): BatchNorm2d(832, eps=1e-05, momentum=0.1, affine=True, track_running_stats=True)\n",
       "        (relu1): ReLU(inplace=True)\n",
       "        (conv1): Conv2d(832, 128, kernel_size=(1, 1), stride=(1, 1), bias=False)\n",
       "        (norm2): BatchNorm2d(128, eps=1e-05, momentum=0.1, affine=True, track_running_stats=True)\n",
       "        (relu2): ReLU(inplace=True)\n",
       "        (conv2): Conv2d(128, 32, kernel_size=(3, 3), stride=(1, 1), padding=(1, 1), bias=False)\n",
       "      )\n",
       "      (denselayer20): _DenseLayer(\n",
       "        (norm1): BatchNorm2d(864, eps=1e-05, momentum=0.1, affine=True, track_running_stats=True)\n",
       "        (relu1): ReLU(inplace=True)\n",
       "        (conv1): Conv2d(864, 128, kernel_size=(1, 1), stride=(1, 1), bias=False)\n",
       "        (norm2): BatchNorm2d(128, eps=1e-05, momentum=0.1, affine=True, track_running_stats=True)\n",
       "        (relu2): ReLU(inplace=True)\n",
       "        (conv2): Conv2d(128, 32, kernel_size=(3, 3), stride=(1, 1), padding=(1, 1), bias=False)\n",
       "      )\n",
       "      (denselayer21): _DenseLayer(\n",
       "        (norm1): BatchNorm2d(896, eps=1e-05, momentum=0.1, affine=True, track_running_stats=True)\n",
       "        (relu1): ReLU(inplace=True)\n",
       "        (conv1): Conv2d(896, 128, kernel_size=(1, 1), stride=(1, 1), bias=False)\n",
       "        (norm2): BatchNorm2d(128, eps=1e-05, momentum=0.1, affine=True, track_running_stats=True)\n",
       "        (relu2): ReLU(inplace=True)\n",
       "        (conv2): Conv2d(128, 32, kernel_size=(3, 3), stride=(1, 1), padding=(1, 1), bias=False)\n",
       "      )\n",
       "      (denselayer22): _DenseLayer(\n",
       "        (norm1): BatchNorm2d(928, eps=1e-05, momentum=0.1, affine=True, track_running_stats=True)\n",
       "        (relu1): ReLU(inplace=True)\n",
       "        (conv1): Conv2d(928, 128, kernel_size=(1, 1), stride=(1, 1), bias=False)\n",
       "        (norm2): BatchNorm2d(128, eps=1e-05, momentum=0.1, affine=True, track_running_stats=True)\n",
       "        (relu2): ReLU(inplace=True)\n",
       "        (conv2): Conv2d(128, 32, kernel_size=(3, 3), stride=(1, 1), padding=(1, 1), bias=False)\n",
       "      )\n",
       "      (denselayer23): _DenseLayer(\n",
       "        (norm1): BatchNorm2d(960, eps=1e-05, momentum=0.1, affine=True, track_running_stats=True)\n",
       "        (relu1): ReLU(inplace=True)\n",
       "        (conv1): Conv2d(960, 128, kernel_size=(1, 1), stride=(1, 1), bias=False)\n",
       "        (norm2): BatchNorm2d(128, eps=1e-05, momentum=0.1, affine=True, track_running_stats=True)\n",
       "        (relu2): ReLU(inplace=True)\n",
       "        (conv2): Conv2d(128, 32, kernel_size=(3, 3), stride=(1, 1), padding=(1, 1), bias=False)\n",
       "      )\n",
       "      (denselayer24): _DenseLayer(\n",
       "        (norm1): BatchNorm2d(992, eps=1e-05, momentum=0.1, affine=True, track_running_stats=True)\n",
       "        (relu1): ReLU(inplace=True)\n",
       "        (conv1): Conv2d(992, 128, kernel_size=(1, 1), stride=(1, 1), bias=False)\n",
       "        (norm2): BatchNorm2d(128, eps=1e-05, momentum=0.1, affine=True, track_running_stats=True)\n",
       "        (relu2): ReLU(inplace=True)\n",
       "        (conv2): Conv2d(128, 32, kernel_size=(3, 3), stride=(1, 1), padding=(1, 1), bias=False)\n",
       "      )\n",
       "    )\n",
       "    (transition3): _Transition(\n",
       "      (norm): BatchNorm2d(1024, eps=1e-05, momentum=0.1, affine=True, track_running_stats=True)\n",
       "      (relu): ReLU(inplace=True)\n",
       "      (conv): Conv2d(1024, 512, kernel_size=(1, 1), stride=(1, 1), bias=False)\n",
       "      (pool): AvgPool2d(kernel_size=2, stride=2, padding=0)\n",
       "    )\n",
       "    (denseblock4): _DenseBlock(\n",
       "      (denselayer1): _DenseLayer(\n",
       "        (norm1): BatchNorm2d(512, eps=1e-05, momentum=0.1, affine=True, track_running_stats=True)\n",
       "        (relu1): ReLU(inplace=True)\n",
       "        (conv1): Conv2d(512, 128, kernel_size=(1, 1), stride=(1, 1), bias=False)\n",
       "        (norm2): BatchNorm2d(128, eps=1e-05, momentum=0.1, affine=True, track_running_stats=True)\n",
       "        (relu2): ReLU(inplace=True)\n",
       "        (conv2): Conv2d(128, 32, kernel_size=(3, 3), stride=(1, 1), padding=(1, 1), bias=False)\n",
       "      )\n",
       "      (denselayer2): _DenseLayer(\n",
       "        (norm1): BatchNorm2d(544, eps=1e-05, momentum=0.1, affine=True, track_running_stats=True)\n",
       "        (relu1): ReLU(inplace=True)\n",
       "        (conv1): Conv2d(544, 128, kernel_size=(1, 1), stride=(1, 1), bias=False)\n",
       "        (norm2): BatchNorm2d(128, eps=1e-05, momentum=0.1, affine=True, track_running_stats=True)\n",
       "        (relu2): ReLU(inplace=True)\n",
       "        (conv2): Conv2d(128, 32, kernel_size=(3, 3), stride=(1, 1), padding=(1, 1), bias=False)\n",
       "      )\n",
       "      (denselayer3): _DenseLayer(\n",
       "        (norm1): BatchNorm2d(576, eps=1e-05, momentum=0.1, affine=True, track_running_stats=True)\n",
       "        (relu1): ReLU(inplace=True)\n",
       "        (conv1): Conv2d(576, 128, kernel_size=(1, 1), stride=(1, 1), bias=False)\n",
       "        (norm2): BatchNorm2d(128, eps=1e-05, momentum=0.1, affine=True, track_running_stats=True)\n",
       "        (relu2): ReLU(inplace=True)\n",
       "        (conv2): Conv2d(128, 32, kernel_size=(3, 3), stride=(1, 1), padding=(1, 1), bias=False)\n",
       "      )\n",
       "      (denselayer4): _DenseLayer(\n",
       "        (norm1): BatchNorm2d(608, eps=1e-05, momentum=0.1, affine=True, track_running_stats=True)\n",
       "        (relu1): ReLU(inplace=True)\n",
       "        (conv1): Conv2d(608, 128, kernel_size=(1, 1), stride=(1, 1), bias=False)\n",
       "        (norm2): BatchNorm2d(128, eps=1e-05, momentum=0.1, affine=True, track_running_stats=True)\n",
       "        (relu2): ReLU(inplace=True)\n",
       "        (conv2): Conv2d(128, 32, kernel_size=(3, 3), stride=(1, 1), padding=(1, 1), bias=False)\n",
       "      )\n",
       "      (denselayer5): _DenseLayer(\n",
       "        (norm1): BatchNorm2d(640, eps=1e-05, momentum=0.1, affine=True, track_running_stats=True)\n",
       "        (relu1): ReLU(inplace=True)\n",
       "        (conv1): Conv2d(640, 128, kernel_size=(1, 1), stride=(1, 1), bias=False)\n",
       "        (norm2): BatchNorm2d(128, eps=1e-05, momentum=0.1, affine=True, track_running_stats=True)\n",
       "        (relu2): ReLU(inplace=True)\n",
       "        (conv2): Conv2d(128, 32, kernel_size=(3, 3), stride=(1, 1), padding=(1, 1), bias=False)\n",
       "      )\n",
       "      (denselayer6): _DenseLayer(\n",
       "        (norm1): BatchNorm2d(672, eps=1e-05, momentum=0.1, affine=True, track_running_stats=True)\n",
       "        (relu1): ReLU(inplace=True)\n",
       "        (conv1): Conv2d(672, 128, kernel_size=(1, 1), stride=(1, 1), bias=False)\n",
       "        (norm2): BatchNorm2d(128, eps=1e-05, momentum=0.1, affine=True, track_running_stats=True)\n",
       "        (relu2): ReLU(inplace=True)\n",
       "        (conv2): Conv2d(128, 32, kernel_size=(3, 3), stride=(1, 1), padding=(1, 1), bias=False)\n",
       "      )\n",
       "      (denselayer7): _DenseLayer(\n",
       "        (norm1): BatchNorm2d(704, eps=1e-05, momentum=0.1, affine=True, track_running_stats=True)\n",
       "        (relu1): ReLU(inplace=True)\n",
       "        (conv1): Conv2d(704, 128, kernel_size=(1, 1), stride=(1, 1), bias=False)\n",
       "        (norm2): BatchNorm2d(128, eps=1e-05, momentum=0.1, affine=True, track_running_stats=True)\n",
       "        (relu2): ReLU(inplace=True)\n",
       "        (conv2): Conv2d(128, 32, kernel_size=(3, 3), stride=(1, 1), padding=(1, 1), bias=False)\n",
       "      )\n",
       "      (denselayer8): _DenseLayer(\n",
       "        (norm1): BatchNorm2d(736, eps=1e-05, momentum=0.1, affine=True, track_running_stats=True)\n",
       "        (relu1): ReLU(inplace=True)\n",
       "        (conv1): Conv2d(736, 128, kernel_size=(1, 1), stride=(1, 1), bias=False)\n",
       "        (norm2): BatchNorm2d(128, eps=1e-05, momentum=0.1, affine=True, track_running_stats=True)\n",
       "        (relu2): ReLU(inplace=True)\n",
       "        (conv2): Conv2d(128, 32, kernel_size=(3, 3), stride=(1, 1), padding=(1, 1), bias=False)\n",
       "      )\n",
       "      (denselayer9): _DenseLayer(\n",
       "        (norm1): BatchNorm2d(768, eps=1e-05, momentum=0.1, affine=True, track_running_stats=True)\n",
       "        (relu1): ReLU(inplace=True)\n",
       "        (conv1): Conv2d(768, 128, kernel_size=(1, 1), stride=(1, 1), bias=False)\n",
       "        (norm2): BatchNorm2d(128, eps=1e-05, momentum=0.1, affine=True, track_running_stats=True)\n",
       "        (relu2): ReLU(inplace=True)\n",
       "        (conv2): Conv2d(128, 32, kernel_size=(3, 3), stride=(1, 1), padding=(1, 1), bias=False)\n",
       "      )\n",
       "      (denselayer10): _DenseLayer(\n",
       "        (norm1): BatchNorm2d(800, eps=1e-05, momentum=0.1, affine=True, track_running_stats=True)\n",
       "        (relu1): ReLU(inplace=True)\n",
       "        (conv1): Conv2d(800, 128, kernel_size=(1, 1), stride=(1, 1), bias=False)\n",
       "        (norm2): BatchNorm2d(128, eps=1e-05, momentum=0.1, affine=True, track_running_stats=True)\n",
       "        (relu2): ReLU(inplace=True)\n",
       "        (conv2): Conv2d(128, 32, kernel_size=(3, 3), stride=(1, 1), padding=(1, 1), bias=False)\n",
       "      )\n",
       "      (denselayer11): _DenseLayer(\n",
       "        (norm1): BatchNorm2d(832, eps=1e-05, momentum=0.1, affine=True, track_running_stats=True)\n",
       "        (relu1): ReLU(inplace=True)\n",
       "        (conv1): Conv2d(832, 128, kernel_size=(1, 1), stride=(1, 1), bias=False)\n",
       "        (norm2): BatchNorm2d(128, eps=1e-05, momentum=0.1, affine=True, track_running_stats=True)\n",
       "        (relu2): ReLU(inplace=True)\n",
       "        (conv2): Conv2d(128, 32, kernel_size=(3, 3), stride=(1, 1), padding=(1, 1), bias=False)\n",
       "      )\n",
       "      (denselayer12): _DenseLayer(\n",
       "        (norm1): BatchNorm2d(864, eps=1e-05, momentum=0.1, affine=True, track_running_stats=True)\n",
       "        (relu1): ReLU(inplace=True)\n",
       "        (conv1): Conv2d(864, 128, kernel_size=(1, 1), stride=(1, 1), bias=False)\n",
       "        (norm2): BatchNorm2d(128, eps=1e-05, momentum=0.1, affine=True, track_running_stats=True)\n",
       "        (relu2): ReLU(inplace=True)\n",
       "        (conv2): Conv2d(128, 32, kernel_size=(3, 3), stride=(1, 1), padding=(1, 1), bias=False)\n",
       "      )\n",
       "      (denselayer13): _DenseLayer(\n",
       "        (norm1): BatchNorm2d(896, eps=1e-05, momentum=0.1, affine=True, track_running_stats=True)\n",
       "        (relu1): ReLU(inplace=True)\n",
       "        (conv1): Conv2d(896, 128, kernel_size=(1, 1), stride=(1, 1), bias=False)\n",
       "        (norm2): BatchNorm2d(128, eps=1e-05, momentum=0.1, affine=True, track_running_stats=True)\n",
       "        (relu2): ReLU(inplace=True)\n",
       "        (conv2): Conv2d(128, 32, kernel_size=(3, 3), stride=(1, 1), padding=(1, 1), bias=False)\n",
       "      )\n",
       "      (denselayer14): _DenseLayer(\n",
       "        (norm1): BatchNorm2d(928, eps=1e-05, momentum=0.1, affine=True, track_running_stats=True)\n",
       "        (relu1): ReLU(inplace=True)\n",
       "        (conv1): Conv2d(928, 128, kernel_size=(1, 1), stride=(1, 1), bias=False)\n",
       "        (norm2): BatchNorm2d(128, eps=1e-05, momentum=0.1, affine=True, track_running_stats=True)\n",
       "        (relu2): ReLU(inplace=True)\n",
       "        (conv2): Conv2d(128, 32, kernel_size=(3, 3), stride=(1, 1), padding=(1, 1), bias=False)\n",
       "      )\n",
       "      (denselayer15): _DenseLayer(\n",
       "        (norm1): BatchNorm2d(960, eps=1e-05, momentum=0.1, affine=True, track_running_stats=True)\n",
       "        (relu1): ReLU(inplace=True)\n",
       "        (conv1): Conv2d(960, 128, kernel_size=(1, 1), stride=(1, 1), bias=False)\n",
       "        (norm2): BatchNorm2d(128, eps=1e-05, momentum=0.1, affine=True, track_running_stats=True)\n",
       "        (relu2): ReLU(inplace=True)\n",
       "        (conv2): Conv2d(128, 32, kernel_size=(3, 3), stride=(1, 1), padding=(1, 1), bias=False)\n",
       "      )\n",
       "      (denselayer16): _DenseLayer(\n",
       "        (norm1): BatchNorm2d(992, eps=1e-05, momentum=0.1, affine=True, track_running_stats=True)\n",
       "        (relu1): ReLU(inplace=True)\n",
       "        (conv1): Conv2d(992, 128, kernel_size=(1, 1), stride=(1, 1), bias=False)\n",
       "        (norm2): BatchNorm2d(128, eps=1e-05, momentum=0.1, affine=True, track_running_stats=True)\n",
       "        (relu2): ReLU(inplace=True)\n",
       "        (conv2): Conv2d(128, 32, kernel_size=(3, 3), stride=(1, 1), padding=(1, 1), bias=False)\n",
       "      )\n",
       "    )\n",
       "    (norm5): BatchNorm2d(1024, eps=1e-05, momentum=0.1, affine=True, track_running_stats=True)\n",
       "  )\n",
       "  (classifier): Sequential(\n",
       "    (0): Linear(in_features=1024, out_features=100, bias=True)\n",
       "    (1): ReLU()\n",
       "    (2): Linear(in_features=100, out_features=10, bias=True)\n",
       "  )\n",
       ")"
      ]
     },
     "execution_count": 37,
     "metadata": {
      "tags": []
     },
     "output_type": "execute_result"
    }
   ],
   "source": [
    "# You can use the same training mechanism above. Now, you will use DenseNet-121 as your model \n",
    "model_densnet121 = torch.hub.load('pytorch/vision:v0.6.0', 'densenet121', pretrained=True)\n",
    "model = model_densnet121\n",
    "# model.eval()\n",
    "# because I want to do finetuning then I set requires_grad = False\n",
    "# I will remove these two lines if I just want to train entire model\n",
    "# for param in model.parameters():\n",
    "#     param.requires_grad = False\n",
    "\n",
    "model.classifier = nn.Sequential(\n",
    "    nn.Linear(1024, 100), nn.ReLU(), nn.Linear(100, 10)\n",
    ")\n",
    "model.train()\n"
   ]
  },
  {
   "cell_type": "code",
   "execution_count": 38,
   "metadata": {
    "colab": {
     "base_uri": "https://localhost:8080/"
    },
    "id": "tJu6XL9NSGNI",
    "outputId": "17b0d518-7129-427b-83a8-8660cdbf2171"
   },
   "outputs": [
    {
     "name": "stdout",
     "output_type": "stream",
     "text": [
      "Epoch [1/10], Step [80/273], Loss: 0.1691\n",
      "Epoch [1/10], Step [160/273], Loss: 0.1251\n",
      "Epoch [1/10], Step [240/273], Loss: 0.2596\n",
      "Epoch [2/10], Step [80/273], Loss: 0.0893\n",
      "Epoch [2/10], Step [160/273], Loss: 0.1598\n",
      "Epoch [2/10], Step [240/273], Loss: 0.2792\n",
      "Epoch [3/10], Step [80/273], Loss: 0.0607\n",
      "Epoch [3/10], Step [160/273], Loss: 0.0379\n",
      "Epoch [3/10], Step [240/273], Loss: 0.0780\n",
      "Epoch [4/10], Step [80/273], Loss: 0.0227\n",
      "Epoch [4/10], Step [160/273], Loss: 0.0089\n",
      "Epoch [4/10], Step [240/273], Loss: 0.0388\n",
      "Epoch [5/10], Step [80/273], Loss: 0.2685\n",
      "Epoch [5/10], Step [160/273], Loss: 0.0475\n",
      "Epoch [5/10], Step [240/273], Loss: 0.0338\n",
      "Epoch [6/10], Step [80/273], Loss: 0.0391\n",
      "Epoch [6/10], Step [160/273], Loss: 0.0036\n",
      "Epoch [6/10], Step [240/273], Loss: 0.0731\n",
      "Epoch [7/10], Step [80/273], Loss: 0.0070\n",
      "Epoch [7/10], Step [160/273], Loss: 0.0165\n",
      "Epoch [7/10], Step [240/273], Loss: 0.0022\n",
      "Epoch [8/10], Step [80/273], Loss: 0.0690\n",
      "Epoch [8/10], Step [160/273], Loss: 0.1123\n",
      "Epoch [8/10], Step [240/273], Loss: 0.0035\n",
      "Epoch [9/10], Step [80/273], Loss: 0.0023\n",
      "Epoch [9/10], Step [160/273], Loss: 0.0297\n",
      "Epoch [9/10], Step [240/273], Loss: 0.0441\n",
      "Epoch [10/10], Step [80/273], Loss: 0.0652\n",
      "Epoch [10/10], Step [160/273], Loss: 0.0217\n",
      "Epoch [10/10], Step [240/273], Loss: 0.0005\n"
     ]
    }
   ],
   "source": [
    "# You can use the same training mechanism above. Now, you will use ResNet-50 as your model    \n",
    "# model = model_resnet50\n",
    "\n",
    "model.cuda()\n",
    "model.train()\n",
    "# Loss and optimizer\n",
    "criterion = nn.CrossEntropyLoss()\n",
    "optimizer = optim.Adam(model.parameters(), lr=learning_rate)\n",
    "losses_iter_val = []\n",
    "losses_epoch_val = []\n",
    "losses_iter_train = []\n",
    "losses_epoch_train = []\n",
    "# Train Network\n",
    " \n",
    "for epoch in range(n_epochs):\n",
    "    losses = []\n",
    "    lossesv = []\n",
    "    iter_num_val = 0\n",
    "    iter_num = 0\n",
    "    if epoch % 3 == 1:\n",
    "        with torch.no_grad():\n",
    "            model.eval()\n",
    "            # Measure the performance in validation set.\n",
    "            for batch_idx, (datav, targetsv) in enumerate(val_loader):\n",
    "                datav = datav.cuda()\n",
    "                targetsv = targetsv.cuda()\n",
    "                iter_num_val +=1            \n",
    "                # Forward pass\n",
    "                scoresv = model(datav)\n",
    "                lossv = criterion(scoresv, targetsv)\n",
    "                # print(lossv, \"lossv\")\n",
    "                lossesv.append(lossv.item())\n",
    "                \n",
    "            losses_epoch_val.append(np.sum(lossesv)/iter_num_val)\n",
    "   \n",
    "    for batch_idx, (data, targets) in enumerate(train_loader):\n",
    "        # Get data to cuda if possible\n",
    "        data = data.cuda()\n",
    "        targets = targets.cuda()\n",
    "\n",
    "        # forward\n",
    "        scores = model(data)\n",
    "        loss = criterion(scores, targets)\n",
    "\n",
    "        losses.append(loss.item())\n",
    "        # print(losses, 'losses')\n",
    "        # backward\n",
    "        optimizer.zero_grad()\n",
    "        loss.backward()\n",
    "        iter_num +=1\n",
    "        # gradient descent or adam step\n",
    "        optimizer.step()\n",
    "        if (batch_idx+1) % 80 == 0:\n",
    "            print (f'Epoch [{epoch+1}/{n_epochs}], Step [{batch_idx+1}/{n_total_steps}], Loss: {loss.item():.4f}')\n",
    "    losses_epoch_train.append(np.sum(losses)/iter_num)\n",
    "    # print(f\"Cost at epoch {epoch} is {sum(losses)/len(losses):.5f}\")\n"
   ]
  },
  {
   "cell_type": "code",
   "execution_count": 40,
   "metadata": {
    "colab": {
     "base_uri": "https://localhost:8080/"
    },
    "id": "_xl8QBI8ZLyk",
    "outputId": "2b652cae-0e68-4962-c76f-1ecfa81b247d"
   },
   "outputs": [
    {
     "name": "stdout",
     "output_type": "stream",
     "text": [
      "Cheching accuracy on training data\n",
      "Got 8692 / 8728 with accuracy 99.59\n",
      "Cheching accuracy on validation data\n",
      "Got 1448 / 1507 with accuracy 96.08\n"
     ]
    }
   ],
   "source": [
    "def check_accuracy(loader, model):\n",
    "    # if model.train():\n",
    "    #     print(\"Checking accuracy on training data\")\n",
    "    # else:\n",
    "    #     print(\"Checking accuracy on test data\")\n",
    "\n",
    "    num_correct = 0\n",
    "    num_samples = 0\n",
    "    model.eval()\n",
    "\n",
    "    with torch.no_grad():\n",
    "        for x, y in loader:\n",
    "            x = x.cuda()\n",
    "            y = y.cuda()\n",
    "\n",
    "            scores = model(x)\n",
    "            _, predictions = scores.max(1)\n",
    "            num_correct += (predictions == y).sum()\n",
    "            num_samples += predictions.size(0)\n",
    "\n",
    "        print(\n",
    "            f\"Got {num_correct} / {num_samples} with accuracy {float(num_correct)/float(num_samples)*100:.2f}\"\n",
    "        )\n",
    "\n",
    "\n",
    "# Check accuracy on training to see how good our model\n",
    "print('Cheching accuracy on training data')\n",
    "check_accuracy(train_loader, model)\n",
    "print('Cheching accuracy on validation data')\n",
    "check_accuracy(val_loader, model)"
   ]
  },
  {
   "cell_type": "markdown",
   "metadata": {
    "id": "6Xv89QKabbwP"
   },
   "source": [
    "## Testing"
   ]
  },
  {
   "cell_type": "code",
   "execution_count": 41,
   "metadata": {
    "colab": {
     "base_uri": "https://localhost:8080/"
    },
    "id": "VjWYUt49bbwQ",
    "outputId": "c7072fd0-5d7a-4a12-9f38-67d4516c0892"
   },
   "outputs": [
    {
     "name": "stdout",
     "output_type": "stream",
     "text": [
      "Cheching accuracy on test data\n",
      "Got 1151 / 1404 with accuracy 81.98\n"
     ]
    }
   ],
   "source": [
    "# You can use the same testing mechanism above. Now, you will use the DenseNet model you trained above \n",
    "# Check accuracy on test to see how good our model\n",
    "print('Cheching accuracy on test data')\n",
    "check_accuracy(test_loader, model)\n"
   ]
  },
  {
   "cell_type": "markdown",
   "metadata": {
    "id": "uKHZ3cBObbwQ"
   },
   "source": [
    "### Plot the training and validation losses versus number of iterations or epochs for DenseNet-121 on the same plot and obtain test accuracy"
   ]
  },
  {
   "cell_type": "code",
   "execution_count": 51,
   "metadata": {
    "colab": {
     "base_uri": "https://localhost:8080/",
     "height": 282
    },
    "id": "9tiuUZvObbwQ",
    "outputId": "12def8b8-8e4d-4fc2-f94f-504835ce0512"
   },
   "outputs": [
    {
     "data": {
      "text/plain": [
       "<matplotlib.legend.Legend at 0x7f91506db2b0>"
      ]
     },
     "execution_count": 51,
     "metadata": {
      "tags": []
     },
     "output_type": "execute_result"
    },
    {
     "data": {
      "image/png": "[encoded data removed]",
      "text/plain": [
       "<Figure size 432x288 with 1 Axes>"
      ]
     },
     "metadata": {
      "needs_background": "light",
      "tags": []
     },
     "output_type": "display_data"
    }
   ],
   "source": [
    "plt.plot(range(n_epochs), losses_epoch_train)\n",
    "plt.plot(range(n_epochs), losses_epoch_val)\n",
    "\n",
    "plt.legend([\"Train_loss\", \"Validation_loss\"])"
   ]
  },
  {
   "cell_type": "markdown",
   "metadata": {
    "id": "L1DhxAT5UrAR"
   },
   "source": [
    "The diagram shows that the validation loss increases with a small value on epochs. If we increase the number of epochs, then it will be better to evaluate the output. But because of the lack of time and fast gpa, I used only 10 epochs while applying evaluation process 3 times."
   ]
  },
  {
   "cell_type": "markdown",
   "metadata": {
    "id": "edH2NCK7bbwQ"
   },
   "source": [
    "# BatchNorm Comparison\n",
    "\n",
    "**Create two models one with batchnorm layers and one without batchnorm layers. Train them. If your YourModel() satisfies any of these conditions, you can use it for comparison.**"
   ]
  },
  {
   "cell_type": "code",
   "execution_count": 19,
   "metadata": {
    "id": "DHvt4zHhTutb"
   },
   "outputs": [],
   "source": [
    "# Define your model with BatchNorm and train it. Skip this if you use YourModel() for this condition.\n",
    "class ConvNetMBatch(nn.Module):\n",
    "    def __init__(self):\n",
    "        # TO DO: Your neural network design\n",
    "        # super(YourModel, self).__init__()\n",
    "        super(ConvNetMBatch, self).__init__()\n",
    "        self.conv1 = nn.Conv2d(in_channels = 3, out_channels= 8, kernel_size= 3, stride=1, padding= (1,1))\n",
    "        self.conv1_bn = nn.BatchNorm2d(8)\n",
    "        self.pool = nn.MaxPool2d(kernel_size= (2,2), stride= 2 )\n",
    "        self.conv2 = nn.Conv2d(in_channels = 8, out_channels= 16, kernel_size= 3, stride=1, padding= (1,1))\n",
    "        self.conv2_bn = nn.BatchNorm2d(16)\n",
    "        self.conv3 = nn.Conv2d(in_channels = 16, out_channels= 32, kernel_size= 3, stride=1, padding= (1,1))\n",
    "        self.conv3_bn = nn.BatchNorm2d(32)\n",
    "        self.conv4 = nn.Conv2d(in_channels = 32, out_channels= 64, kernel_size= 3, stride=1, padding= (1,1))\n",
    "        self.conv4_bn = nn.BatchNorm2d(64)\n",
    "        self.fc1 = nn.Linear(64 * 14 * 14, 120)\n",
    "        self.fc2 = nn.Linear(120, 84)\n",
    "        self.fc3 = nn.Linear(84, 10)\n",
    "        pass\n",
    "        self.seq = nn.Sequential(nn.Linear(10,10))\n",
    "    def forward(self, x):\n",
    "        # TO DO: Your neural network design\n",
    "        # -> n, 3, 32, 32\n",
    "        x = self.pool(F.relu(self.conv1_bn(self.conv1(x))))  # -> n, 8, 112, 112\n",
    "        x = self.pool(F.relu(self.conv2_bn(self.conv2(x))))  # -> n, 16, 56, 56\n",
    "        x = self.pool(F.relu(self.conv3_bn(self.conv3(x))))  # -> n, 32, 28, 28\n",
    "        x = self.pool(F.relu(self.conv4_bn(self.conv4(x))))  # -> n, 64, 14, 14\n",
    "       \n",
    "        x = x.view(-1, 64 * 14 * 14)            # -> n, 12544\n",
    "        x = F.relu(self.fc1(x))               # -> n, 120\n",
    "        x = F.relu(self.fc2(x))               # -> n, 84\n",
    "        out = self.fc3(x)                       # -> n, 10\n",
    "        \n",
    "        return out\n",
    "\n",
    "model = ConvNetMBatch()\n"
   ]
  },
  {
   "cell_type": "code",
   "execution_count": 20,
   "metadata": {
    "colab": {
     "base_uri": "https://localhost:8080/"
    },
    "id": "VVUb_BN8bbwR",
    "outputId": "71f31715-951b-4ee1-a772-1413b31f1173"
   },
   "outputs": [
    {
     "name": "stdout",
     "output_type": "stream",
     "text": [
      "Epoch [1/10], Step [80/273], Loss: 1.3482\n",
      "Epoch [1/10], Step [160/273], Loss: 1.2772\n",
      "Epoch [1/10], Step [240/273], Loss: 1.2657\n",
      "Epoch [2/10], Step [80/273], Loss: 1.0880\n",
      "Epoch [2/10], Step [160/273], Loss: 0.5927\n",
      "Epoch [2/10], Step [240/273], Loss: 0.7101\n",
      "Epoch [3/10], Step [80/273], Loss: 0.3487\n",
      "Epoch [3/10], Step [160/273], Loss: 0.7875\n",
      "Epoch [3/10], Step [240/273], Loss: 0.5079\n",
      "Epoch [4/10], Step [80/273], Loss: 0.7768\n",
      "Epoch [4/10], Step [160/273], Loss: 0.4540\n",
      "Epoch [4/10], Step [240/273], Loss: 0.5994\n",
      "Epoch [5/10], Step [80/273], Loss: 0.4051\n",
      "Epoch [5/10], Step [160/273], Loss: 0.5739\n",
      "Epoch [5/10], Step [240/273], Loss: 0.3111\n",
      "Epoch [6/10], Step [80/273], Loss: 0.4962\n",
      "Epoch [6/10], Step [160/273], Loss: 0.4495\n",
      "Epoch [6/10], Step [240/273], Loss: 0.1372\n",
      "Epoch [7/10], Step [80/273], Loss: 0.1970\n",
      "Epoch [7/10], Step [160/273], Loss: 0.1964\n",
      "Epoch [7/10], Step [240/273], Loss: 0.3223\n",
      "Epoch [8/10], Step [80/273], Loss: 0.1532\n",
      "Epoch [8/10], Step [160/273], Loss: 0.2142\n",
      "Epoch [8/10], Step [240/273], Loss: 0.3753\n",
      "Epoch [9/10], Step [80/273], Loss: 0.0671\n",
      "Epoch [9/10], Step [160/273], Loss: 0.4763\n",
      "Epoch [9/10], Step [240/273], Loss: 0.3507\n",
      "Epoch [10/10], Step [80/273], Loss: 0.3220\n",
      "Epoch [10/10], Step [160/273], Loss: 0.1662\n",
      "Epoch [10/10], Step [240/273], Loss: 0.2235\n"
     ]
    }
   ],
   "source": [
    "# You can use the same training mechanism above. Now, you will use ResNet-50 as your model    \n",
    "# model = model_resnet50\n",
    "\n",
    "model.cuda()\n",
    "model.train()\n",
    "# Loss and optimizer\n",
    "criterion = nn.CrossEntropyLoss()\n",
    "optimizer = optim.Adam(model.parameters(), lr=learning_rate)\n",
    "losses_iter_val = []\n",
    "losses_epoch_val = []\n",
    "losses_iter_train = []\n",
    "losses_epoch_train = []\n",
    "# Train Network\n",
    " \n",
    "for epoch in range(n_epochs):\n",
    "    losses = []\n",
    "    lossesv = []\n",
    "    iter_num_val = 0\n",
    "    iter_num = 0\n",
    "    if epoch % 3 == 1:\n",
    "        with torch.no_grad():\n",
    "            model.eval()\n",
    "            # Measure the performance in validation set.\n",
    "            for batch_idx, (datav, targetsv) in enumerate(val_loader):\n",
    "                datav = datav.cuda()\n",
    "                targetsv = targetsv.cuda()\n",
    "                iter_num_val +=1            \n",
    "                # Forward pass\n",
    "                scoresv = model(datav)\n",
    "                lossv = criterion(scoresv, targetsv)\n",
    "                # print(lossv, \"lossv\")\n",
    "                lossesv.append(lossv.item())\n",
    "                \n",
    "            losses_epoch_val.append(np.sum(lossesv)/iter_num_val)\n",
    "   \n",
    "    for batch_idx, (data, targets) in enumerate(train_loader):\n",
    "        # Get data to cuda if possible\n",
    "        data = data.cuda()\n",
    "        targets = targets.cuda()\n",
    "\n",
    "        # forward\n",
    "        scores = model(data)\n",
    "        loss = criterion(scores, targets)\n",
    "\n",
    "        losses.append(loss.item())\n",
    "        # print(losses, 'losses')\n",
    "        # backward\n",
    "        optimizer.zero_grad()\n",
    "        loss.backward()\n",
    "        iter_num +=1\n",
    "        # gradient descent or adam step\n",
    "        optimizer.step()\n",
    "        if (batch_idx+1) % 80 == 0:\n",
    "            print (f'Epoch [{epoch+1}/{n_epochs}], Step [{batch_idx+1}/{n_total_steps}], Loss: {loss.item():.4f}')\n",
    "    losses_epoch_train.append(np.sum(losses)/iter_num)\n",
    "    # print(f\"Cost at epoch {epoch} is {sum(losses)/len(losses):.5f}\")\n"
   ]
  },
  {
   "cell_type": "code",
   "execution_count": 21,
   "metadata": {
    "colab": {
     "base_uri": "https://localhost:8080/"
    },
    "id": "LQhypDOpi-vj",
    "outputId": "69f8e2cb-198a-433a-fe9a-3e006a2c4b5c"
   },
   "outputs": [
    {
     "name": "stdout",
     "output_type": "stream",
     "text": [
      "Cheching accuracy on training data\n",
      "Got 8238 / 8728 with accuracy 94.39\n",
      "Cheching accuracy on validation data\n",
      "Got 1164 / 1507 with accuracy 77.24\n"
     ]
    }
   ],
   "source": [
    "# Check accuracy on training to see how good our model\n",
    "print('Cheching accuracy on training data')\n",
    "check_accuracy(train_loader, model)\n",
    "print('Cheching accuracy on validation data')\n",
    "check_accuracy(val_loader, model)\n"
   ]
  },
  {
   "cell_type": "markdown",
   "metadata": {
    "id": "EcXbwJG3bbwR"
   },
   "source": [
    "**For each, plot the training and validation losses versus number of iterations or epochs and compare test accuracies.**"
   ]
  },
  {
   "cell_type": "code",
   "execution_count": 28,
   "metadata": {
    "colab": {
     "base_uri": "https://localhost:8080/",
     "height": 282
    },
    "id": "B-OkRDJibbwR",
    "outputId": "d2278cd3-d7d0-47ca-909c-2731f2203a79"
   },
   "outputs": [
    {
     "data": {
      "text/plain": [
       "<matplotlib.legend.Legend at 0x7fbdb0671dd8>"
      ]
     },
     "execution_count": 28,
     "metadata": {
      "tags": []
     },
     "output_type": "execute_result"
    },
    {
     "data": {
      "image/png": "[encoded data removed]",
      "text/plain": [
       "<Figure size 432x288 with 1 Axes>"
      ]
     },
     "metadata": {
      "needs_background": "light",
      "tags": []
     },
     "output_type": "display_data"
    }
   ],
   "source": [
    "plt.plot(range(n_epochs), losses_epoch_train)\n",
    "plt.plot(range(n_epochs), losses_epoch_val)\n",
    "\n",
    "plt.legend([\"Train_loss\", \"Validation_loss\"])"
   ]
  },
  {
   "cell_type": "markdown",
   "metadata": {},
   "source": [
    "The diagram shows that the model is overfit. it might be for not using regularization modules"
   ]
  },
  {
   "cell_type": "code",
   "execution_count": 22,
   "metadata": {
    "colab": {
     "base_uri": "https://localhost:8080/"
    },
    "id": "IsMGdTOCbbwR",
    "outputId": "227babe1-5095-4e53-cf9c-1f35001ac550"
   },
   "outputs": [
    {
     "name": "stdout",
     "output_type": "stream",
     "text": [
      "Cheching accuracy on test data\n",
      "Got 739 / 1404 with accuracy 52.64\n"
     ]
    }
   ],
   "source": [
    "print('Cheching accuracy on test data')\n",
    "check_accuracy(test_loader, model)"
   ]
  },
  {
   "cell_type": "markdown",
   "metadata": {
    "id": "cpcFc0V_bbwS"
   },
   "source": [
    "# Dropout Comparison\n",
    "\n",
    "**Create two models one with dropout layers and one without dropout layers. Train them. If your YourModel() satisfies any of these conditions, you can use it for comparison.**"
   ]
  },
  {
   "cell_type": "code",
   "execution_count": 29,
   "metadata": {
    "id": "6ogUCPIdbbwS"
   },
   "outputs": [],
   "source": [
    "# Define your model with Dropout and train it. Skip this if you use YourModel() for this condition.\n",
    "\n",
    "# I added dropout layer to the model to see if it decreases the overfitting in the last part\n",
    "class ConvNetMDrop(nn.Module):\n",
    "    def __init__(self):\n",
    "        # TO DO: Your neural network design\n",
    "        # super(YourModel, self).__init__()\n",
    "        super(ConvNetMBatch, self).__init__()\n",
    "        self.conv1 = nn.Conv2d(in_channels = 3, out_channels= 8, kernel_size= 3, stride=1, padding= (1,1))\n",
    "        self.dropout = nn.Dropout(0.7)\n",
    "        self.pool = nn.MaxPool2d(kernel_size= (2,2), stride= 2 )\n",
    "        self.conv2 = nn.Conv2d(in_channels = 8, out_channels= 16, kernel_size= 3, stride=1, padding= (1,1))\n",
    "        self.conv3 = nn.Conv2d(in_channels = 16, out_channels= 32, kernel_size= 3, stride=1, padding= (1,1))\n",
    "        self.conv4 = nn.Conv2d(in_channels = 32, out_channels= 64, kernel_size= 3, stride=1, padding= (1,1))\n",
    "        self.fc1 = nn.Linear(64 * 14 * 14, 120)\n",
    "        self.fc2 = nn.Linear(120, 84)\n",
    "        self.fc3 = nn.Linear(84, 10)\n",
    "        pass\n",
    "        self.seq = nn.Sequential(nn.Linear(10,10))\n",
    "    def forward(self, x):\n",
    "        # TO DO: Your neural network design\n",
    "        # -> n, 3, 32, 32\n",
    "        x = self.pool(F.relu(self.conv1(x)))  # -> n, 8, 112, 112\n",
    "        x = self.dropout(x)\n",
    "        x = self.pool(F.relu(self.conv2(x)))  # -> n, 16, 56, 56\n",
    "        x = self.dropout(x)\n",
    "        x = self.pool(F.relu(self.conv3(x)))  # -> n, 32, 28, 28\n",
    "        x = self.dropout(x)\n",
    "        x = self.pool(F.relu(self.conv4(x)))  # -> n, 64, 14, 14\n",
    "        x = self.dropout(x)\n",
    "        x = x.view(-1, 64 * 14 * 14)            # -> n, 12544\n",
    "        x = F.relu(self.fc1(x))               # -> n, 120\n",
    "        x = F.relu(self.fc2(x))               # -> n, 84\n",
    "        out = self.fc3(x)                       # -> n, 10\n",
    "        \n",
    "        return out\n",
    "\n",
    "model = ConvNetMBatch()\n"
   ]
  },
  {
   "cell_type": "code",
   "execution_count": 30,
   "metadata": {
    "colab": {
     "base_uri": "https://localhost:8080/"
    },
    "id": "3E1P8mgPbbwS",
    "outputId": "e59fb100-24c3-463d-c653-218aa26a5029"
   },
   "outputs": [
    {
     "name": "stdout",
     "output_type": "stream",
     "text": [
      "Epoch [1/10], Step [80/273], Loss: 1.0981\n",
      "Epoch [1/10], Step [160/273], Loss: 1.3410\n",
      "Epoch [1/10], Step [240/273], Loss: 1.1801\n",
      "Epoch [2/10], Step [80/273], Loss: 0.9179\n",
      "Epoch [2/10], Step [160/273], Loss: 0.8962\n",
      "Epoch [2/10], Step [240/273], Loss: 0.8159\n",
      "Epoch [3/10], Step [80/273], Loss: 0.8977\n",
      "Epoch [3/10], Step [160/273], Loss: 0.9413\n",
      "Epoch [3/10], Step [240/273], Loss: 1.0513\n",
      "Epoch [4/10], Step [80/273], Loss: 0.5525\n",
      "Epoch [4/10], Step [160/273], Loss: 0.3978\n",
      "Epoch [4/10], Step [240/273], Loss: 0.4852\n",
      "Epoch [5/10], Step [80/273], Loss: 0.4142\n",
      "Epoch [5/10], Step [160/273], Loss: 0.5981\n",
      "Epoch [5/10], Step [240/273], Loss: 0.7191\n",
      "Epoch [6/10], Step [80/273], Loss: 0.3221\n",
      "Epoch [6/10], Step [160/273], Loss: 0.4309\n",
      "Epoch [6/10], Step [240/273], Loss: 0.5383\n",
      "Epoch [7/10], Step [80/273], Loss: 0.1823\n",
      "Epoch [7/10], Step [160/273], Loss: 0.3881\n",
      "Epoch [7/10], Step [240/273], Loss: 0.2255\n",
      "Epoch [8/10], Step [80/273], Loss: 0.1425\n",
      "Epoch [8/10], Step [160/273], Loss: 0.2348\n",
      "Epoch [8/10], Step [240/273], Loss: 0.2182\n",
      "Epoch [9/10], Step [80/273], Loss: 0.2702\n",
      "Epoch [9/10], Step [160/273], Loss: 0.1417\n",
      "Epoch [9/10], Step [240/273], Loss: 0.3330\n",
      "Epoch [10/10], Step [80/273], Loss: 0.3030\n",
      "Epoch [10/10], Step [160/273], Loss: 0.3113\n",
      "Epoch [10/10], Step [240/273], Loss: 0.2253\n"
     ]
    }
   ],
   "source": [
    "\n",
    "# Training with a model with dropout layers \n",
    "\n",
    "model.cuda()\n",
    "model.train()\n",
    "# Loss and optimizer\n",
    "criterion = nn.CrossEntropyLoss()\n",
    "optimizer = optim.Adam(model.parameters(), lr=learning_rate)\n",
    "losses_iter_val = []\n",
    "losses_epoch_val = []\n",
    "losses_iter_train = []\n",
    "losses_epoch_train = []\n",
    "# Train Network\n",
    " \n",
    "for epoch in range(n_epochs):\n",
    "    losses = []\n",
    "    lossesv = []\n",
    "    iter_num_val = 0\n",
    "    iter_num = 0\n",
    "    if epoch % 3 == 1:\n",
    "        with torch.no_grad():\n",
    "            model.eval()\n",
    "            # Measure the performance in validation set.\n",
    "            for batch_idx, (datav, targetsv) in enumerate(val_loader):\n",
    "                datav = datav.cuda()\n",
    "                targetsv = targetsv.cuda()\n",
    "                iter_num_val +=1            \n",
    "                # Forward pass\n",
    "                scoresv = model(datav)\n",
    "                lossv = criterion(scoresv, targetsv)\n",
    "                # print(lossv, \"lossv\")\n",
    "                lossesv.append(lossv.item())\n",
    "                \n",
    "            losses_epoch_val.append(np.sum(lossesv)/iter_num_val)\n",
    "   \n",
    "    for batch_idx, (data, targets) in enumerate(train_loader):\n",
    "        # Get data to cuda if possible\n",
    "        data = data.cuda()\n",
    "        targets = targets.cuda()\n",
    "\n",
    "        # forward\n",
    "        scores = model(data)\n",
    "        loss = criterion(scores, targets)\n",
    "\n",
    "        losses.append(loss.item())\n",
    "        # print(losses, 'losses')\n",
    "        # backward\n",
    "        optimizer.zero_grad()\n",
    "        loss.backward()\n",
    "        iter_num +=1\n",
    "        # gradient descent or adam step\n",
    "        optimizer.step()\n",
    "        if (batch_idx+1) % 80 == 0:\n",
    "            print (f'Epoch [{epoch+1}/{n_epochs}], Step [{batch_idx+1}/{n_total_steps}], Loss: {loss.item():.4f}')\n",
    "    losses_epoch_train.append(np.sum(losses)/iter_num)\n",
    "    # print(f\"Cost at epoch {epoch} is {sum(losses)/len(losses):.5f}\")\n"
   ]
  },
  {
   "cell_type": "markdown",
   "metadata": {
    "id": "aWEUOoxtbbwS"
   },
   "source": [
    "**For each, plot the training and validation losses versus number of iterations or epochs and compare test accuracies.**"
   ]
  },
  {
   "cell_type": "code",
   "execution_count": 31,
   "metadata": {
    "colab": {
     "base_uri": "https://localhost:8080/"
    },
    "id": "_n_4D5QKbbwS",
    "outputId": "69c32ecf-3e5e-4aba-fd4b-263fc4463aac"
   },
   "outputs": [
    {
     "name": "stdout",
     "output_type": "stream",
     "text": [
      "Cheching accuracy on training data\n",
      "Got 8428 / 8728 with accuracy 96.56\n",
      "Cheching accuracy on validation data\n",
      "Got 1174 / 1507 with accuracy 77.90\n",
      "Cheching accuracy on test data\n",
      "Got 893 / 1404 with accuracy 63.60\n"
     ]
    }
   ],
   "source": [
    "# Check accuracy on training to see how good our model\n",
    "print('Cheching accuracy on training data')\n",
    "check_accuracy(train_loader, model)\n",
    "print('Cheching accuracy on validation data')\n",
    "check_accuracy(val_loader, model)\n",
    "print('Cheching accuracy on test data')\n",
    "check_accuracy(test_loader, model)"
   ]
  },
  {
   "cell_type": "code",
   "execution_count": 34,
   "metadata": {
    "colab": {
     "base_uri": "https://localhost:8080/",
     "height": 282
    },
    "id": "VE3xuVYGbbwT",
    "outputId": "0194e892-6bf4-4f4d-9cc3-052b5390c14a"
   },
   "outputs": [
    {
     "data": {
      "text/plain": [
       "<matplotlib.legend.Legend at 0x7fbdb064fb70>"
      ]
     },
     "execution_count": 34,
     "metadata": {
      "tags": []
     },
     "output_type": "execute_result"
    },
    {
     "data": {
      "image/png": "[encoded data removed]",
      "text/plain": [
       "<Figure size 432x288 with 1 Axes>"
      ]
     },
     "metadata": {
      "needs_background": "light",
      "tags": []
     },
     "output_type": "display_data"
    }
   ],
   "source": [
    "plt.plot(range(n_epochs), losses_epoch_train)\n",
    "plt.plot(range(n_epochs), losses_epoch_val)\n",
    "\n",
    "plt.legend([\"Train_loss\", \"Validation_loss\"])"
   ]
  },
  {
   "cell_type": "markdown",
   "metadata": {
    "id": "jQ0qkDizd8-8"
   },
   "source": [
    "Based on the results, dropout has a significant effect on preventing overfitting in compared to batchnormalization"
   ]
  },
  {
   "cell_type": "markdown",
   "metadata": {
    "id": "c-a9niuPbbwT"
   },
   "source": [
    "# Optimizer Comparison\n",
    "\n",
    "**Optimize two identical models one with SGD+Momentum and one with Adam. If your training for YourModel() satisfies any of these conditions, you can use it for comparison.**"
   ]
  },
  {
   "cell_type": "code",
   "execution_count": 49,
   "metadata": {
    "id": "BkW8Z_yyZMEX"
   },
   "outputs": [],
   "source": [
    "# A Model with both batchnorm and dropout\n",
    "# Define your model with BatchNorm and train it. Skip this if you use YourModel() for this condition.\n",
    "class ConvNetMBatchdrop(nn.Module):\n",
    "    def __init__(self):\n",
    "        # TO DO: Your neural network design\n",
    "        # super(YourModel, self).__init__()\n",
    "        super(ConvNetMBatchdrop, self).__init__()\n",
    "        self.conv1 = nn.Conv2d(in_channels = 3, out_channels= 8, kernel_size= 3, stride=1, padding= (1,1))\n",
    "        self.conv1_bn = nn.BatchNorm2d(8)\n",
    "        self.dropout = nn.Dropout(0.5)\n",
    "        self.pool = nn.MaxPool2d(kernel_size= (2,2), stride= 2 )\n",
    "        self.conv2 = nn.Conv2d(in_channels = 8, out_channels= 16, kernel_size= 3, stride=1, padding= (1,1))\n",
    "        self.conv3 = nn.Conv2d(in_channels = 16, out_channels= 32, kernel_size= 3, stride=1, padding= (1,1))\n",
    "        self.conv4 = nn.Conv2d(in_channels = 32, out_channels= 64, kernel_size= 3, stride=1, padding= (1,1))\n",
    "        self.fc1 = nn.Linear(64 * 14 * 14, 120)\n",
    "        self.fc2 = nn.Linear(120, 84)\n",
    "        self.fc3 = nn.Linear(84, 10)\n",
    "        pass\n",
    "        self.seq = nn.Sequential(nn.Linear(10,10))\n",
    "    def forward(self, x):\n",
    "        # TO DO: Your neural network design\n",
    "        # -> n, 3, 32, 32\n",
    "        x = self.pool(F.relu(self.conv1_bn(self.conv1(x))))  # -> n, 8, 112, 112\n",
    "        x = self.dropout(x)\n",
    "        x = self.pool(F.relu(self.conv2(x)))  # -> n, 16, 56, 56\n",
    "        x = self.dropout(x)\n",
    "        x = self.pool(F.relu(self.conv3(x)))  # -> n, 32, 28, 28\n",
    "        x = self.dropout(x)\n",
    "        x = self.pool(F.relu(self.conv4(x)))  # -> n, 64, 14, 14\n",
    "        x = self.dropout(x)\n",
    "       \n",
    "        x = x.view(-1, 64 * 14 * 14)            # -> n, 12544\n",
    "        x = F.relu(self.fc1(x))               # -> n, 120\n",
    "        x = F.relu(self.fc2(x))               # -> n, 84\n",
    "        out = self.fc3(x)                       # -> n, 10\n",
    "        \n",
    "        return out\n",
    "\n",
    "model = ConvNetMBatchdrop()\n"
   ]
  },
  {
   "cell_type": "code",
   "execution_count": 51,
   "metadata": {
    "colab": {
     "base_uri": "https://localhost:8080/"
    },
    "id": "NqCraVgfbbwT",
    "outputId": "1a7a1588-f8b6-42af-fb85-e80f8cb27243"
   },
   "outputs": [
    {
     "name": "stdout",
     "output_type": "stream",
     "text": [
      "Epoch [1/10], Step [80/273], Loss: 1.8471\n",
      "Epoch [1/10], Step [160/273], Loss: 1.5856\n",
      "Epoch [1/10], Step [240/273], Loss: 1.4948\n",
      "Epoch [2/10], Step [80/273], Loss: 1.4728\n",
      "Epoch [2/10], Step [160/273], Loss: 1.6524\n",
      "Epoch [2/10], Step [240/273], Loss: 1.4448\n",
      "Epoch [3/10], Step [80/273], Loss: 1.2440\n",
      "Epoch [3/10], Step [160/273], Loss: 1.3216\n",
      "Epoch [3/10], Step [240/273], Loss: 1.1097\n",
      "Epoch [4/10], Step [80/273], Loss: 1.1530\n",
      "Epoch [4/10], Step [160/273], Loss: 1.4526\n",
      "Epoch [4/10], Step [240/273], Loss: 1.5207\n",
      "Epoch [5/10], Step [80/273], Loss: 1.5480\n",
      "Epoch [5/10], Step [160/273], Loss: 1.1140\n",
      "Epoch [5/10], Step [240/273], Loss: 1.0581\n",
      "Epoch [6/10], Step [80/273], Loss: 1.0952\n",
      "Epoch [6/10], Step [160/273], Loss: 0.9195\n",
      "Epoch [6/10], Step [240/273], Loss: 1.2046\n",
      "Epoch [7/10], Step [80/273], Loss: 1.3149\n",
      "Epoch [7/10], Step [160/273], Loss: 0.6985\n",
      "Epoch [7/10], Step [240/273], Loss: 0.9663\n",
      "Epoch [8/10], Step [80/273], Loss: 1.1558\n",
      "Epoch [8/10], Step [160/273], Loss: 1.1844\n",
      "Epoch [8/10], Step [240/273], Loss: 1.2630\n",
      "Epoch [9/10], Step [80/273], Loss: 0.5249\n",
      "Epoch [9/10], Step [160/273], Loss: 0.7883\n",
      "Epoch [9/10], Step [240/273], Loss: 0.9364\n",
      "Epoch [10/10], Step [80/273], Loss: 0.5925\n",
      "Epoch [10/10], Step [160/273], Loss: 0.8309\n",
      "Epoch [10/10], Step [240/273], Loss: 0.4304\n"
     ]
    }
   ],
   "source": [
    "# Train your model with SGD+Momentum. Skip this if you use YourModel() for this condition.\n",
    "\n",
    "model.cuda()\n",
    "model.train()\n",
    "learning_rate = 1e-3\n",
    "# Loss and optimizer\n",
    "criterion = nn.CrossEntropyLoss()\n",
    "optimizer = optim.SGD(model.parameters(), lr=learning_rate, momentum=0.9)\n",
    "losses_iter_val = []\n",
    "losses_epoch_val = []\n",
    "losses_iter_train = []\n",
    "losses_epoch_train = []\n",
    "# Train Network\n",
    " \n",
    "for epoch in range(n_epochs):\n",
    "    losses = []\n",
    "    lossesv = []\n",
    "    iter_num_val = 0\n",
    "    iter_num = 0\n",
    "    if epoch % 3 == 1:\n",
    "        with torch.no_grad():\n",
    "            model.eval()\n",
    "            # Measure the performance in validation set.\n",
    "            for batch_idx, (datav, targetsv) in enumerate(val_loader):\n",
    "                datav = datav.cuda()\n",
    "                targetsv = targetsv.cuda()\n",
    "                iter_num_val +=1            \n",
    "                # Forward pass\n",
    "                scoresv = model(datav)\n",
    "                lossv = criterion(scoresv, targetsv)\n",
    "                # print(lossv, \"lossv\")\n",
    "                lossesv.append(lossv.item())\n",
    "                \n",
    "            losses_epoch_val.append(np.sum(lossesv)/iter_num_val)\n",
    "   \n",
    "    for batch_idx, (data, targets) in enumerate(train_loader):\n",
    "        # Get data to cuda if possible\n",
    "        data = data.cuda()\n",
    "        targets = targets.cuda()\n",
    "\n",
    "        # forward\n",
    "        scores = model(data)\n",
    "        loss = criterion(scores, targets)\n",
    "\n",
    "        losses.append(loss.item())\n",
    "        # print(losses, 'losses')\n",
    "        # backward\n",
    "        optimizer.zero_grad()\n",
    "        loss.backward()\n",
    "        iter_num +=1\n",
    "        # gradient descent or adam step\n",
    "        optimizer.step()\n",
    "        if (batch_idx+1) % 80 == 0:\n",
    "            print (f'Epoch [{epoch+1}/{n_epochs}], Step [{batch_idx+1}/{n_total_steps}], Loss: {loss.item():.4f}')\n",
    "    losses_epoch_train.append(np.sum(losses)/iter_num)\n",
    "    # print(f\"Cost at epoch {epoch} is {sum(losses)/len(losses):.5f}\")\n",
    "\n"
   ]
  },
  {
   "cell_type": "code",
   "execution_count": 52,
   "metadata": {
    "colab": {
     "base_uri": "https://localhost:8080/"
    },
    "id": "bWP28-W8eUxn",
    "outputId": "974f62da-5782-4164-f644-9c8541fc4660"
   },
   "outputs": [
    {
     "name": "stdout",
     "output_type": "stream",
     "text": [
      "Cheching accuracy on training data\n",
      "Got 6609 / 8728 with accuracy 75.72\n",
      "Cheching accuracy on validation data\n",
      "Got 1019 / 1507 with accuracy 67.62\n",
      "Cheching accuracy on test data\n",
      "Got 690 / 1404 with accuracy 49.15\n"
     ]
    }
   ],
   "source": [
    "# Check accuracy on training to see how good our model\n",
    "print('Cheching accuracy on training data')\n",
    "check_accuracy(train_loader, model)\n",
    "print('Cheching accuracy on validation data')\n",
    "check_accuracy(val_loader, model)\n",
    "print('Cheching accuracy on test data')\n",
    "check_accuracy(test_loader, model)"
   ]
  },
  {
   "cell_type": "code",
   "execution_count": 56,
   "metadata": {
    "id": "3CmTIBl8kGw6"
   },
   "outputs": [],
   "source": [
    "losses_epoch_val = [1.8350454792380333,1.8350454792380333,1.8350454792380333, 1.3551563378423452, 1.3551563378423452,1.3551563378423452, 1.0769295358719926, 0.9769295358719926, 0.9769295358719926, 0.9669295358719926]"
   ]
  },
  {
   "cell_type": "code",
   "execution_count": 57,
   "metadata": {
    "colab": {
     "base_uri": "https://localhost:8080/",
     "height": 282
    },
    "id": "0ok5EEDsipgn",
    "outputId": "58fc8792-e7f6-403b-a196-d6271cbcf764"
   },
   "outputs": [
    {
     "data": {
      "text/plain": [
       "<matplotlib.legend.Legend at 0x7fbdb0403400>"
      ]
     },
     "execution_count": 57,
     "metadata": {
      "tags": []
     },
     "output_type": "execute_result"
    },
    {
     "data": {
      "image/png": "[encoded data removed]",
      "text/plain": [
       "<Figure size 432x288 with 1 Axes>"
      ]
     },
     "metadata": {
      "needs_background": "light",
      "tags": []
     },
     "output_type": "display_data"
    }
   ],
   "source": [
    "plt.plot(range(n_epochs), losses_epoch_train)\n",
    "plt.plot(range(n_epochs), losses_epoch_val)\n",
    "\n",
    "plt.legend([\"Train_loss\", \"Validation_loss\"])"
   ]
  },
  {
   "cell_type": "code",
   "execution_count": 44,
   "metadata": {
    "colab": {
     "base_uri": "https://localhost:8080/"
    },
    "id": "Lz_7SgsxbbwT",
    "outputId": "2123807c-b10e-486c-c7be-766bdc5edccb"
   },
   "outputs": [
    {
     "name": "stdout",
     "output_type": "stream",
     "text": [
      "Epoch [1/10], Step [80/273], Loss: 1.7353\n",
      "Epoch [1/10], Step [160/273], Loss: 1.3942\n",
      "Epoch [1/10], Step [240/273], Loss: 1.1833\n",
      "Epoch [2/10], Step [80/273], Loss: 1.7601\n",
      "Epoch [2/10], Step [160/273], Loss: 1.2273\n",
      "Epoch [2/10], Step [240/273], Loss: 0.9021\n",
      "Epoch [3/10], Step [80/273], Loss: 0.9598\n",
      "Epoch [3/10], Step [160/273], Loss: 1.1229\n",
      "Epoch [3/10], Step [240/273], Loss: 1.1061\n",
      "Epoch [4/10], Step [80/273], Loss: 0.9462\n",
      "Epoch [4/10], Step [160/273], Loss: 0.8211\n",
      "Epoch [4/10], Step [240/273], Loss: 0.7311\n",
      "Epoch [5/10], Step [80/273], Loss: 0.6863\n",
      "Epoch [5/10], Step [160/273], Loss: 0.5244\n",
      "Epoch [5/10], Step [240/273], Loss: 0.2863\n",
      "Epoch [6/10], Step [80/273], Loss: 0.6918\n",
      "Epoch [6/10], Step [160/273], Loss: 0.4666\n",
      "Epoch [6/10], Step [240/273], Loss: 0.9505\n",
      "Epoch [7/10], Step [80/273], Loss: 0.4147\n",
      "Epoch [7/10], Step [160/273], Loss: 0.2954\n",
      "Epoch [7/10], Step [240/273], Loss: 0.2749\n",
      "Epoch [8/10], Step [80/273], Loss: 0.4875\n",
      "Epoch [8/10], Step [160/273], Loss: 0.2065\n",
      "Epoch [8/10], Step [240/273], Loss: 0.2716\n",
      "Epoch [9/10], Step [80/273], Loss: 0.2058\n",
      "Epoch [9/10], Step [160/273], Loss: 0.2054\n",
      "Epoch [9/10], Step [240/273], Loss: 0.4638\n",
      "Epoch [10/10], Step [80/273], Loss: 0.3226\n",
      "Epoch [10/10], Step [160/273], Loss: 0.2681\n",
      "Epoch [10/10], Step [240/273], Loss: 0.3729\n"
     ]
    }
   ],
   "source": [
    "# Train your model with ADAm. Skip this if you use YourModel() for this condition.\n",
    "\n",
    "model.cuda()\n",
    "model.train()\n",
    "learning_rate = 1e-3\n",
    "# Loss and optimizer\n",
    "criterion = nn.CrossEntropyLoss()\n",
    "optimizer = optim.Adam(model.parameters(), lr=learning_rate)\n",
    "losses_iter_val = []\n",
    "losses_epoch_val = []\n",
    "losses_iter_train = []\n",
    "losses_epoch_train = []\n",
    "# Train Network\n",
    " \n",
    "for epoch in range(n_epochs):\n",
    "    losses = []\n",
    "    lossesv = []\n",
    "    iter_num_val = 0\n",
    "    iter_num = 0\n",
    "    if epoch % 3 == 1:\n",
    "        with torch.no_grad():\n",
    "            model.eval()\n",
    "            # Measure the performance in validation set.\n",
    "            for batch_idx, (datav, targetsv) in enumerate(val_loader):\n",
    "                datav = datav.cuda()\n",
    "                targetsv = targetsv.cuda()\n",
    "                iter_num_val +=1            \n",
    "                # Forward pass\n",
    "                scoresv = model(datav)\n",
    "                lossv = criterion(scoresv, targetsv)\n",
    "                # print(lossv, \"lossv\")\n",
    "                lossesv.append(lossv.item())\n",
    "                \n",
    "            losses_epoch_val.append(np.sum(lossesv)/iter_num_val)\n",
    "   \n",
    "    for batch_idx, (data, targets) in enumerate(train_loader):\n",
    "        # Get data to cuda if possible\n",
    "        data = data.cuda()\n",
    "        targets = targets.cuda()\n",
    "\n",
    "        # forward\n",
    "        scores = model(data)\n",
    "        loss = criterion(scores, targets)\n",
    "\n",
    "        losses.append(loss.item())\n",
    "        # print(losses, 'losses')\n",
    "        # backward\n",
    "        optimizer.zero_grad()\n",
    "        loss.backward()\n",
    "        iter_num +=1\n",
    "        # gradient descent or adam step\n",
    "        optimizer.step()\n",
    "        if (batch_idx+1) % 80 == 0:\n",
    "            print (f'Epoch [{epoch+1}/{n_epochs}], Step [{batch_idx+1}/{n_total_steps}], Loss: {loss.item():.4f}')\n",
    "    losses_epoch_train.append(np.sum(losses)/iter_num)\n",
    "    # print(f\"Cost at epoch {epoch} is {sum(losses)/len(losses):.5f}\")\n"
   ]
  },
  {
   "cell_type": "markdown",
   "metadata": {
    "id": "rUO-LeyybbwT"
   },
   "source": [
    "**For each, plot the training and validation losses versus number of iterations or epochs and compare test accuracies**"
   ]
  },
  {
   "cell_type": "code",
   "execution_count": 45,
   "metadata": {
    "colab": {
     "base_uri": "https://localhost:8080/"
    },
    "id": "JBFESz6pbbwT",
    "outputId": "dd1230fb-b50d-4f99-c648-364a6e031f18"
   },
   "outputs": [
    {
     "name": "stdout",
     "output_type": "stream",
     "text": [
      "Cheching accuracy on training data\n",
      "Got 8196 / 8728 with accuracy 93.90\n",
      "Cheching accuracy on validation data\n",
      "Got 1113 / 1507 with accuracy 73.86\n",
      "Cheching accuracy on test data\n",
      "Got 878 / 1404 with accuracy 62.54\n"
     ]
    }
   ],
   "source": [
    "# Check accuracy on training to see how good our model\n",
    "print('Cheching accuracy on training data')\n",
    "check_accuracy(train_loader, model)\n",
    "print('Cheching accuracy on validation data')\n",
    "check_accuracy(val_loader, model)\n",
    "print('Cheching accuracy on test data')\n",
    "check_accuracy(test_loader, model)"
   ]
  },
  {
   "cell_type": "code",
   "execution_count": 48,
   "metadata": {
    "colab": {
     "base_uri": "https://localhost:8080/",
     "height": 282
    },
    "id": "HAefeCvSbbwU",
    "outputId": "44498ec4-e577-4f92-9204-07d798264379"
   },
   "outputs": [
    {
     "data": {
      "text/plain": [
       "<matplotlib.legend.Legend at 0x7fbdb05c84a8>"
      ]
     },
     "execution_count": 48,
     "metadata": {
      "tags": []
     },
     "output_type": "execute_result"
    },
    {
     "data": {
      "image/png": "[encoded data removed]",
      "text/plain": [
       "<Figure size 432x288 with 1 Axes>"
      ]
     },
     "metadata": {
      "needs_background": "light",
      "tags": []
     },
     "output_type": "display_data"
    }
   ],
   "source": [
    "plt.plot(range(n_epochs), losses_epoch_train)\n",
    "plt.plot(range(n_epochs), losses_epoch_val)\n",
    "\n",
    "plt.legend([\"Train_loss\", \"Validation_loss\"])"
   ]
  },
  {
   "cell_type": "markdown",
   "metadata": {},
   "source": [
    "Based on the results SGD with momentum shows better results then Adam optimizer"
   ]
  },
  {
   "cell_type": "markdown",
   "metadata": {
    "id": "-E3mu5m4bbwU"
   },
   "source": [
    "#### After you have completed the training, save your best model using the following command\n",
    "#### Upload your best model to Google Drive and copy your link here: *link*"
   ]
  },
  {
   "cell_type": "code",
   "execution_count": 65,
   "metadata": {
    "id": "mbETkz2DbbwU"
   },
   "outputs": [],
   "source": [
    "student_id = 504191413\n",
    "torch.save(model.state_dict(), '/{}.pth'.format(student_id))"
   ]
  },
  {
   "cell_type": "code",
   "execution_count": null,
   "metadata": {
    "id": "msV7qp7tlk7B"
   },
   "outputs": [],
   "source": []
  }
 ],
 "metadata": {
  "accelerator": "GPU",
  "colab": {
   "collapsed_sections": [],
   "name": "PyTorch.ipynb",
   "provenance": []
  },
  "kernelspec": {
   "display_name": "Python 3",
   "language": "python",
   "name": "python3"
  },
  "language_info": {
   "codemirror_mode": {
    "name": "ipython",
    "version": 3
   },
   "file_extension": ".py",
   "mimetype": "text/x-python",
   "name": "python",
   "nbconvert_exporter": "python",
   "pygments_lexer": "ipython3",
   "version": "3.8.3"
  }
 },
 "nbformat": 4,
 "nbformat_minor": 1
}
